{
 "cells": [
  {
   "cell_type": "markdown",
   "metadata": {},
   "source": [
    "# INTRODUCTION TO PYTHON\n",
    "\n",
    " GRADE brain workshop, Ma 11-12th 2021 \n",
    "\n",
    "\n",
    "Authors: Aylin Kallmayer, Melvin Kallmayer, Leah Kumle\n",
    "\n",
    "\n",
    "***\n",
    "Unfortunately, the pandemic requieres this workshop to be online. The thing about zoom: It is very hard to get to know the other people. Everyone is just in their little box on the screen and we can't all get lunch together and chat about unrelated things. Let's make the best out of it and try to get to know each other a little bit... in the most COVID safe way possible. Using python! No aerosoles-evoking talking necessary, everyone can do it from their laptop!\n",
    "\n",
    "Go through the sections of the following notebook. We will get to know the basics of python and use it to gather some insight about us as a group. Each time you encounter a `Stop: come back to the main room`- box, please stop working on the notebook. We will have some more theory input before continuing with the next hands-on part. \n",
    "\n",
    "Feel free to add new cells at any point to play around with concepts to get a better grasp on them! (See blue box for a reminder  of how to add cells)\n",
    "\n",
    "In case you are running into problems while working on the notebook, follow the following sequence of steps: \n",
    " \n",
    "<div class=\"alert alert-block alert-warning\">\n",
    "    \n",
    "    \n",
    "**1. Google your problem** - maybe someone else had the same problem before you.   \n",
    "\n",
    "**2. Ask your group members** and try to solve it together.   \n",
    "\n",
    "**3. Ask one of the instructors.**  \n",
    "</div>\n",
    "\n",
    "<div class=\"alert alert-block alert-info\">\n",
    "<b>Notebook Key-Shortcuts:</b> \n",
    "    <p>Esc + B = Add cell below</p>\n",
    "    <p>Esc + A = Add cell above</p>\n",
    "    <p>Esc + X = Delete cell</p>\n",
    "    <p>Strg or Shift + Enter = Run cell</p>\n",
    "</div>"
   ]
  },
  {
   "cell_type": "markdown",
   "metadata": {},
   "source": [
    "***\n",
    "  \n",
    "\n",
    "## Part 1: Variables, Types, Lists, Operators\n",
    "\n",
    "We will start with the very basics. You will see that with each section you complete, you can gather more detailed insight of our group."
   ]
  },
  {
   "cell_type": "markdown",
   "metadata": {},
   "source": [
    "#### A) Using Python as a calculator\n",
    "Try converting the following expression into something that Python can understand: Your result should be ~`1353.362985`\n",
    "![image](example2.png)\n",
    "\n"
   ]
  },
  {
   "cell_type": "code",
   "execution_count": 22,
   "metadata": {},
   "outputs": [],
   "source": [
    "# enter equation here\n"
   ]
  },
  {
   "cell_type": "markdown",
   "metadata": {},
   "source": [
    "<div class=\"alert alert-block alert-warning\">\n",
    "<b>Comments:</b> Have you noticed the text following the '#' sign? That is called a comment. Comments are invisible to Python and we use them to make notes for ourselves that make it easier to understand the code. \n",
    "    \n",
    "It is good practice to ALWAYS comment your code. Trust me, you will regret it later if you don't.\n",
    "</div>\n",
    "\n",
    "\n",
    "#### B) Assign your first variables\n",
    "\n",
    "Store your age (as a numerical variable) and your name (as a string). \n",
    "\n",
    "<div class=\"alert alert-block alert-info\">\n",
    "<b>Useful:</b> You can always use the 'print()' function to get Pythom to return a variable.\n",
    "</div>"
   ]
  },
  {
   "cell_type": "code",
   "execution_count": null,
   "metadata": {},
   "outputs": [],
   "source": [
    "my_name =  \n",
    "my_age = \n",
    "\n",
    "print(my_name)\n",
    "print(my_age)"
   ]
  },
  {
   "cell_type": "markdown",
   "metadata": {},
   "source": [
    "#### C) Lists\n",
    "\n",
    "Below we already prepared a list with the names of the instructors of this workshop.   \n",
    "Create a second list called `ages` and store our ages in it (23, 24, 25) and print that list. "
   ]
  },
  {
   "cell_type": "code",
   "execution_count": 2,
   "metadata": {},
   "outputs": [],
   "source": [
    "# list with names\n",
    "names = [\"Melvin\", \"Aylin\", \"Leah\"]\n",
    "\n",
    "# TO-DO: create list with our ages\n",
    "\n",
    "\n",
    "print(names)\n",
    "print(ages)"
   ]
  },
  {
   "cell_type": "markdown",
   "metadata": {},
   "source": [
    "Fantastic! Try retrieving the first element (Melvin's age) of the `ages` list using indexing.\n",
    "<div class=\"alert alert-block alert-info\">\n",
    "<b>Reminder:</b> Python starts counting at zero!\n",
    "</div>"
   ]
  },
  {
   "cell_type": "code",
   "execution_count": null,
   "metadata": {},
   "outputs": [],
   "source": [
    "# index first element of ages list\n"
   ]
  },
  {
   "cell_type": "markdown",
   "metadata": {},
   "source": [
    "Also try and retrieve the second element (Aylin's age). Compute how old Aylin and Melvin are combined using the indexed list."
   ]
  },
  {
   "cell_type": "code",
   "execution_count": null,
   "metadata": {},
   "outputs": [],
   "source": [
    "# index first and second element of list and add them together\n",
    "\n"
   ]
  },
  {
   "cell_type": "markdown",
   "metadata": {},
   "source": [
    "Lists are very convinient and allow us to do a multitude of things. They have a range of functionalities and inbuilt 'helper'-functions attached to them. For example, we can add values to a list using the `append()`option.\n",
    "\n",
    "Add your name and age to the `names`and `ages`list! "
   ]
  },
  {
   "cell_type": "code",
   "execution_count": 4,
   "metadata": {},
   "outputs": [
    {
     "name": "stdout",
     "output_type": "stream",
     "text": [
      "['Melvin', 'Aylin', 'Leah', 'test', 'test']\n"
     ]
    }
   ],
   "source": [
    "# add your name to the names function \n",
    "# Reminder: You already assigned your name to a variable. Provide the append function with this variable. \n",
    "names.append(...)\n",
    "\n",
    "# repeat with ages list: \n",
    "\n",
    "\n",
    "\n",
    "\n",
    "# Let's have a look at the result\n",
    "print(names)\n",
    "print(ages)"
   ]
  },
  {
   "cell_type": "markdown",
   "metadata": {},
   "source": [
    "What happens if you try to combine the `ages`and `names` list into one large list? Store the result in a new variable called `long_list`."
   ]
  },
  {
   "cell_type": "code",
   "execution_count": null,
   "metadata": {},
   "outputs": [],
   "source": [
    "# combine 'ages' and 'names'. Can you just add them together using '+'?\n",
    "long_list = \n",
    "\n",
    "\n",
    "print(long_list)"
   ]
  },
  {
   "cell_type": "markdown",
   "metadata": {},
   "source": [
    "Index the `long_list` and retrieve element 3 to 5."
   ]
  },
  {
   "cell_type": "code",
   "execution_count": null,
   "metadata": {},
   "outputs": [],
   "source": [
    "# get 3rd to 5th element from long_list\n"
   ]
  },
  {
   "cell_type": "markdown",
   "metadata": {},
   "source": [
    "#### D) Comparison Operators\n",
    "Let's quickly ask Python some questions! We will start with asking Python what number is bigger: 3 times 4.5 or 2.1 times 5.2? \n"
   ]
  },
  {
   "cell_type": "code",
   "execution_count": 15,
   "metadata": {},
   "outputs": [
    {
     "data": {
      "text/plain": [
       "True"
      ]
     },
     "execution_count": 15,
     "metadata": {},
     "output_type": "execute_result"
    }
   ],
   "source": [
    "# ask python if 3*4.5 or 2.1*5.2 is bigger\n"
   ]
  },
  {
   "cell_type": "markdown",
   "metadata": {},
   "source": [
    "After that ask Python which word has more letters: Your name or the word \"Python\"? We are using a function called `len()`. We will talk more about functions later... for now: `len()` can give us the length of a given string (i.e. how many letters are in there?)"
   ]
  },
  {
   "cell_type": "code",
   "execution_count": 19,
   "metadata": {},
   "outputs": [],
   "source": [
    "# which word has more letters? \n",
    "# TODO: which operator do you need to use? Also enter the right string in the right hand side. \n",
    "len(my_name) ... len(\"...\")"
   ]
  },
  {
   "cell_type": "markdown",
   "metadata": {},
   "source": [
    "We aleady saw the oprational operators `==`. `!=`, `<`, `>`, `<=` and `>=`. Python knows some more key words that we can use to ask it questions. Have a look at the examples below and complete the code.\n",
    "\n",
    "\n",
    "We will start with asking Python if your name is in the `names` list from above... just to be sure. What happens if you change `in` to `not in`? \n"
   ]
  },
  {
   "cell_type": "code",
   "execution_count": 1,
   "metadata": {},
   "outputs": [],
   "source": [
    "# check if your name is in names list\n",
    "my_name in names"
   ]
  },
  {
   "cell_type": "markdown",
   "metadata": {},
   "source": [
    "#### E) Other Types of Variables\n",
    "\n",
    "So far we learned about numerical variables, strings and lists. However, Python has a few more variable types that are good and useful to know and we can also convert one type into another. First, you can always check the type of a variable by using the `type`-function. Check out the ode below to first learn some more about numerical variables."
   ]
  },
  {
   "cell_type": "code",
   "execution_count": 14,
   "metadata": {},
   "outputs": [],
   "source": [
    "# numerical variable no 1\n",
    "integer_variable = 42\n",
    "type(integer_variable)"
   ]
  },
  {
   "cell_type": "code",
   "execution_count": 15,
   "metadata": {},
   "outputs": [],
   "source": [
    "# numerical variable no 2\n",
    "float_variable = 42.42\n",
    "type(float_variable)"
   ]
  },
  {
   "cell_type": "markdown",
   "metadata": {},
   "source": [
    "Numerical variables are further divided in the types integer (int) and float! Next, we will have a look at how to convert types. This can be very useful, because each type has different functionalities attached to them. Depending on waht we want to do with a variable, it might be a good idea to convert it to another type!  \n",
    "\n",
    "\n",
    "Thankfully, Python is very flexible when it comes to types. Complete the code below. \n",
    "1. Check the type of the `string_number` variable. \n",
    "2. Convert the `string_number` variable to integer. \n",
    "\n"
   ]
  },
  {
   "cell_type": "code",
   "execution_count": 7,
   "metadata": {},
   "outputs": [],
   "source": [
    "# assign string_variable\n",
    "string_variable = \"42\"\n",
    "\n",
    "# check type of variable\n",
    "print(type(...))\n",
    "\n",
    "# convert to integer: \n",
    "integer_variable = int(...)\n",
    "\n",
    "# check type of variable\n",
    "print(type(...))\n"
   ]
  },
  {
   "cell_type": "markdown",
   "metadata": {},
   "source": [
    "Finally, there are some other variable types that we won't go into detail today. Just so you have heard of them: \n",
    "\n",
    "**1. Tupels:** Tupels are very similar to lists. We use () instead of [] and Tupels are **read_only** meaning that we can't update them after we created them.\n",
    "\n",
    "**2: Dictionaries:** Dictionaries allow to store a lot of information in one variable. But we won't bother about them today. \n",
    "\n",
    "In case you want to read more about data types and type conversion, check out this useful [tutorial](https://www.tutorialspoint.com/python/python_variable_types.htm)."
   ]
  },
  {
   "cell_type": "markdown",
   "metadata": {},
   "source": [
    "<div class=\"alert alert-block alert-danger\">\n",
    "<b>STOP:</b> Come back to the main zoom room!\n",
    "</div>"
   ]
  },
  {
   "cell_type": "markdown",
   "metadata": {},
   "source": [
    "***\n",
    "***  \n",
    "\n",
    "## Part 2: Loops \n",
    "\n",
    "Now that we know some Python basics, let's put it into action and actually learn something about our group! We asked you to answer a few questions in the questionaire leading up to this workshop. We will now use python to look at your answers. \n",
    "\n",
    "The first thing we want to use for that are loops. Reminder: Loops are used to repeat a block of code multiple times. Loops can be confusing in the beginning so we will start with the basics.\n",
    "\n",
    "\n",
    "***\n",
    "\n",
    "#### A) For-Loops\n",
    "\n",
    "We will start with for-loops. Remember: We use this loop if we already know how many times we want to repeat the code block inside the loop. \n",
    "\n",
    "Let's start with having a closer look at the code example below. Your job is to simply try to understand what is happening. \n",
    "\n",
    "<div class=\"alert alert-block alert-warning\">\n",
    "<b>Important:</b> We specify which code should be executed <b> inside </b> the loop by using intendation.\n",
    "</div>\n"
   ]
  },
  {
   "cell_type": "code",
   "execution_count": 8,
   "metadata": {},
   "outputs": [],
   "source": [
    "# range(3) means we repeat the loop 3 time!\n",
    "for counter in range(3):\n",
    "    \n",
    "    # First, let's only look at the value counter takes during the loop\n",
    "    print(counter)"
   ]
  },
  {
   "cell_type": "markdown",
   "metadata": {},
   "source": [
    "As expected, Python prints 3 values - each comes from one repetition of the loop. During the first repetition, `counter` = 0, during the second repetition `counter`= 1 and in the third repetition `couter` = 2. Python starts counting from 0 - also in loops! \n",
    "\n",
    "<div class=\"alert alert-block alert-warning\">\n",
    "<b>Important:</b> We don't have to name the loop iterator 'counter'. It is a variable and we can call it whatever we want!\n",
    "</div>\n",
    "\n",
    "Let's see what we can do with the `counter` variable! Below you can find a list with the names of all people participating in this workshop (XY in total). Let's assume we want Python to say \"Hello\" to each participant. We can wrap that in a loop to avoid repetition. We provided the general structure of the code.\n",
    "\n",
    "Can you figure out how to index the `names` list inside the loop to say \"Hello\" to each participant?\n",
    "\n",
    "Tip: In the first repetition you want to retrieve the first element in `names`, in the second repetition you want to retrieve the second element and so on!"
   ]
  },
  {
   "cell_type": "code",
   "execution_count": 15,
   "metadata": {},
   "outputs": [],
   "source": [
    "_names = [\".1.\", \".2.\", \".3.\"]\n",
    "\n",
    "# loop through all participants (20 in total)\n",
    "for participant in range(20): \n",
    "    \n",
    "    ## TO-DO: index the participant_names list inside this loop\n",
    "    name = \n",
    "    \n",
    "    print(\"Hello \"+ name + \"!\")\n",
    "\n"
   ]
  },
  {
   "cell_type": "markdown",
   "metadata": {},
   "source": [
    "Instead of indexing our `names` list inside of the loop, we can also loop **through** the list directly. Let's see what that would look like! Which value does the `participant` variable take inside of the loop? Do you see the difference to the loop above?\n"
   ]
  },
  {
   "cell_type": "code",
   "execution_count": 17,
   "metadata": {},
   "outputs": [],
   "source": [
    "# loop through list \n",
    "for participant in names: \n",
    "    \n",
    "    print(participant)"
   ]
  },
  {
   "cell_type": "markdown",
   "metadata": {},
   "source": [
    "This soultion is much more convinient! We don't need to know how many participants there are in total and we also don't need to index the original list.\n",
    "\n",
    "\n",
    "\n",
    "Okay ... Let's see how old we are all combined! We provided a list with the age of all of us. We will loop through this list and add up our ages. For doing so, we need an aditional variable that can store the (temporary) result, which we wish to update in each iteration of the loop. \n",
    "\n",
    "<div class=\"alert alert-block alert-info\">\n",
    "<b>Tip:</b> If you want to update the value of an existing variable, you need to re-assign the result to the existing variable. \n",
    "                                        For example: x = x + 1 \n",
    "</div>"
   ]
  },
  {
   "cell_type": "code",
   "execution_count": 26,
   "metadata": {},
   "outputs": [
    {
     "name": "stdout",
     "output_type": "stream",
     "text": [
      "Together, we are 15 years old!\n"
     ]
    }
   ],
   "source": [
    "# list with ages of all participants\n",
    "participant_ages = [1,2,3,4,5]\n",
    "\n",
    "# variable to store (temporary) result. Set to zero because we want to start counting at 0!\n",
    "age_combined = 0\n",
    "\n",
    "# TO-DO: loop through participant_ages list: \n",
    "for age in ...:\n",
    "    \n",
    "    # TO-DO: in each repetition of the loop, add the age of the current participant\n",
    "    #        to the age_combined variable\n",
    "    \n",
    "\n",
    "\n",
    "# print the result: See how we are using type conversion to inegrate the age_combined variable in our string?\n",
    "print(\"Together, we are \" + str(age_combined) + \" years old!\")"
   ]
  },
  {
   "cell_type": "markdown",
   "metadata": {},
   "source": [
    "Next, let's assume we want to transform the `names` list in a way that it only contains uppercase letters. So Python would become PYTHON. We want to do that by building up a new `uppercase_names`list inside of a for-loop. \n",
    "Strings have a handy function called `upper()`, which we can use to transform them to uppercase letters. However, we first need to retrieve each name from the `names` list, then transform it using `upper` and finally store it in the `uppercase_names`list. To do so, complete the code below. "
   ]
  },
  {
   "cell_type": "code",
   "execution_count": null,
   "metadata": {},
   "outputs": [],
   "source": [
    "# Create empty list that we will fill up inside the loop\n",
    "uppercase_names = []\n",
    "\n",
    "# 1: TO-DO: Loop through names list: \n",
    "for ... : \n",
    "    \n",
    "    # 2: transform each name to uppercase letters using upper(...)\n",
    "    transformed_name = ...(...)\n",
    "    \n",
    "    # 3: add transformed name to upper_case names.\n",
    "    # TIP: Remember how you added your name to the list in Part I of this notebook?\n",
    "    uppercase_names. ...(...)\n",
    "    \n",
    "    # print list to see it growing: \n",
    "    print(uppercase_names)\n",
    "    \n",
    "    "
   ]
  },
  {
   "cell_type": "markdown",
   "metadata": {},
   "source": [
    "#### B) while-loops\n",
    "\n",
    "Let's also have a look at while loops. While loops can be useful but also dangerous! They repeat as long as the condition at the start of the loop equals `true`. So after each time Python executed the code inside the loop, it checks the condition at the head of the loop to determine if it should run the code again or move on. If we never tell Python to stop (i.e. update the condition), Python will be stuck in this loop **forever**! \n",
    "\n",
    "<div class=\"alert alert-block alert-warning\">\n",
    "<b>Important:</b> Always include a rule/update that stops the while loop!\n",
    "</div>\n",
    "\n",
    "Let's assume we want to use a while loop to say hello to the first five participants. We included the basic scaffolding to do so below. Can you figure out how to include a statement that will stop the loop after 5 repetitions?"
   ]
  },
  {
   "cell_type": "code",
   "execution_count": null,
   "metadata": {},
   "outputs": [],
   "source": [
    "# variable counting repetitions of loop\n",
    "count = 0\n",
    "\n",
    "# for clarity: here is the names list again: \n",
    "names = [\"A\", \"B\", \"C\"]\n",
    "\n",
    "# while loop: We want to \n",
    "while(count < 5):\n",
    "    \n",
    "    # index list to get one name after another\n",
    "    name = names[count]\n",
    "    \n",
    "    #TO-DO: include statement that updates the count variable\n",
    "    ...\n",
    "    \n",
    "    # say hello!\n",
    "    print(\"Hello\" + name + \"!\")\n"
   ]
  },
  {
   "cell_type": "markdown",
   "metadata": {},
   "source": [
    "**Tip:** Have a look at the while-loop condition (`count < 5`). What has to happen to the `count` variable in order for the loop to stop?"
   ]
  },
  {
   "cell_type": "markdown",
   "metadata": {},
   "source": [
    "<div class=\"alert alert-block alert-danger\">\n",
    "<b>STOP:</b> Come back to the main zoom room!\n",
    "</div>\n",
    "\n",
    "***\n",
    "***\n",
    "\n",
    "\n",
    "## Part 3: Flow control\n",
    "\n",
    "Now that we've already learned about loops, we will see that they can be much more powerful if we are able to combine them with `if-statements`! But first, let's start with looking at the general structure of if-statements. \n",
    "Python comes with three options regarding if-statements, that we can combine to make the most out of our flow control. \n",
    "\n",
    "1. It always starts with an `if`-statement. \n",
    "2. Optionally, we can add an `elif`-statement. This statement is only evaluated if the if-statement does not apply. \n",
    "3. Finally, we can add an `else`-statement. This statement is evaluated if **none** of the preceeding if- or elif-stamenets apply. \n",
    "\n",
    "Let's see what that looks like in code: We included an `if-elif-else` statement below, where Python checks if a name contains a certain letter. Can you come up with **three different names** that result in Python printing the three different messages?\n",
    "\n",
    "<div class=\"alert alert-block alert-info\">\n",
    "<b>Reminder:</b> Python only looks at the <b>elif</b> and <b>else</b> statement if none of the preceeding statements evaluated to true. \n",
    "</div>\n"
   ]
  },
  {
   "cell_type": "code",
   "execution_count": 1,
   "metadata": {},
   "outputs": [
    {
     "name": "stdout",
     "output_type": "stream",
     "text": [
      "Good Job! You managed to unlock the third message.\n"
     ]
    }
   ],
   "source": [
    "# enter names here: (please only use lowercase letters)\n",
    "name = \"...\"\n",
    "\n",
    "# check if name contains the letter a\n",
    "if \"a\" in name: \n",
    "    print(\"Cool! You managed to unlock the first message.\")\n",
    "    \n",
    "# if name does not contain an a: check if name contains an n\n",
    "elif \"n\" in name: \n",
    "    \n",
    "    print(\"Great! You managed to unlock the second message.\")\n",
    "# all other cases: \n",
    "else: \n",
    "    print(\"Good Job! You managed to unlock the third message.\")\n",
    "    "
   ]
  },
  {
   "cell_type": "markdown",
   "metadata": {},
   "source": [
    "What happens if you enter the name \"anton\" and change the `elif`-statement to an `if`-statement? Why is this happening?\n",
    "\n",
    "***\n",
    "\n",
    "Next, let's find out how many participants were born in the same month as you! To do so, we will use a for loop and an if statement. We will loop through a list containing the birthmonths. Inside the loop, we will use an if-statement to check if it is the same months as yours. \n",
    "\n",
    "<div class=\"alert alert-block alert-info\">\n",
    "<b>Tip:</b> In the if-elif statements, we need to ask Python a question! Remember: We can do that with comparison operators (e.g. ==, !=, <, >). \n",
    "</div>"
   ]
  },
  {
   "cell_type": "code",
   "execution_count": null,
   "metadata": {},
   "outputs": [],
   "source": [
    "# enter your month of birth: \n",
    "my_birthmonth = \"...\"\n",
    "\n",
    "# list with all suburbs: \n",
    "months = [\"...\", \"...\"]\n",
    "\n",
    "# variable counting how many people are born in the same month as you: \n",
    "count = 0\n",
    "\n",
    "# 1: TO-DO: include the for loop that loops through the suburb list: \n",
    "for ... in ...: \n",
    "    \n",
    "    # 2: TO-DO: include an if-statement that checks if the current element of the list equals your birth mojth\n",
    "    if ... == ... : \n",
    "        \n",
    "        # 3: TO-DO: update the count variable (add 1 to it)\n",
    "        count = ... + ...\n",
    "\n",
    "\n",
    "        \n",
    "print(str(count) + \" people were also born in \" + my_birthmonth)"
   ]
  },
  {
   "cell_type": "markdown",
   "metadata": {},
   "source": [
    "***\n",
    "Maybe one of the other participants lives in the same suburb as you? Let's find out.. maybe you can even meet for a COVID-safe walk around your neighborhood afterwards! \n",
    "\n",
    "We will again use a for-loop to loop through your suburbs. However, at the same time, we want to know the corresponding name... otherwise it is difficult to arrange to meet. Below you can see two lists: One with all the suburbs, one with your names. We arranged them in the same order, so the first name corresponds to the first suburb.  Now we just need a way to loop through them at the same time!\n",
    "\n",
    "<div class=\"alert alert-block alert-info\">\n",
    "<b>Useful:</b> We can zip lists together using the zip() function! This way, we can loop through them at the same time.\n",
    "</div>\n",
    "\n",
    "Complete the code block to know to find out who lives near you!\n"
   ]
  },
  {
   "cell_type": "code",
   "execution_count": null,
   "metadata": {},
   "outputs": [],
   "source": [
    "# 1: TO-DO: enter the name of your suburb\n",
    "my_suburb = \"...\"\n",
    "\n",
    "# list with all suburbs\n",
    "suburbs = [\".\", \"l\"]\n",
    "\n",
    "# list with all names\n",
    "names = [\"A\", \"B\"]\n",
    "\n",
    "# 2: TO-DO: complete the for loop by entering the two lists in the correct order\n",
    "# Tip: The counter variables give it away\n",
    "for suburb, name in zip(... , ...):\n",
    "    \n",
    "    # 3: TO-Do: check if the current element of the suburb list equals your suburb\n",
    "    if... == ...: \n",
    "        \n",
    "        # 4: TO-DO: Add the variable containing the name that corresponds to the suburb in the print function. \n",
    "        print(... + \" lives near me!\")"
   ]
  },
  {
   "cell_type": "markdown",
   "metadata": {},
   "source": [
    "If no one lives in the same suburb as you, Python won't print anything. To still check how it would look like otherwise and to check if your code is working, change `my_suburb`to a name that you can see in the `suburb` list."
   ]
  },
  {
   "cell_type": "markdown",
   "metadata": {},
   "source": [
    "***\n",
    "I bet you already wondered how many participants in this workshop are younger, older or the same age as you. Let's use Python to finally find out!\n",
    "\n",
    "We will again use a for-loop and an if-elif-else statement to count how many people are older, younger or the same age.  Complete the code block below to find out. \n"
   ]
  },
  {
   "cell_type": "code",
   "execution_count": null,
   "metadata": {},
   "outputs": [],
   "source": [
    "# 1: TO-DO: Enter your own age \n",
    "my_age = ...\n",
    "\n",
    "# list with ages of all participants\n",
    "ages = [1,2,3]\n",
    "\n",
    "# variables to count who is older, y0unger, same age\n",
    "younger = 0\n",
    "older = 0\n",
    "same = 0\n",
    "\n",
    "# 2: TO-DO: complete the for loop to loop through the ages list\n",
    "for ... in ...: \n",
    "    \n",
    "    # 3. TO-DO: complete the if-elif statement: \n",
    "    \n",
    "    # A) check if current element in list is smaller that your age\n",
    "    if ... ... my_age : \n",
    "        # update younger variable (add 1 to variable)\n",
    "        younger = ... \n",
    "    # B) check if current element is larger that your age\n",
    "    elif ... ... ...: \n",
    "        older = ...\n",
    "    \n",
    "    # C) check if current element is the same as your age\n",
    "    elif ... ... ...:\n",
    "        ... = ...\n",
    "        \n",
    "print(str(younger)+ \" participants are younger than you!\")\n",
    "print(str(older)+ \" participants are older than you!\")\n",
    "print(str(same)+ \" participants are the same age as you!\")"
   ]
  },
  {
   "cell_type": "markdown",
   "metadata": {},
   "source": [
    "<div class=\"alert alert-block alert-danger\">\n",
    "<b>STOP:</b> Come back to the main zoom room!\n",
    "</div>\n",
    "\n",
    "***\n",
    "***\n",
    "\n",
    "## Part 4:  Functions & Libraries\n",
    "\n",
    "Finally, we will have a look at functions and libaries (which basically is just a set of premade functions that we can make available to us). \n",
    "Let's start with having a closer look at inbuild functions. Those are functions that come within the basic python language. Go through the examples below. \n",
    "\n",
    "1. Use the `min()` and `max()` function to get the **age range** of our group. Remember, the we stored our ages in a list called `ages`."
   ]
  },
  {
   "cell_type": "code",
   "execution_count": 21,
   "metadata": {},
   "outputs": [],
   "source": [
    "# get age range\n",
    "min_age = ...\n",
    "max_age = ...\n",
    "\n",
    "\n",
    "print(\"age-range: \"+ str(min_age) +\"-\"+ str(max_age))"
   ]
  },
  {
   "cell_type": "markdown",
   "metadata": {},
   "source": [
    "2. Let's compute the **mean age** of all workshop participants. First, try to implement the formula to compute the mean by yourself. We know that the mean is the sum of some numbers divided by the number of elements. So we can use the `sum()` function and the `len()` function. `sum`and `len`are two other examples of inbuild functions included in Python! "
   ]
  },
  {
   "cell_type": "code",
   "execution_count": null,
   "metadata": {},
   "outputs": [],
   "source": [
    "mean_age = ...(...)/...(...)\n",
    "\n",
    "print(mean_age)"
   ]
  },
  {
   "cell_type": "markdown",
   "metadata": {},
   "source": [
    "3. Let's have a look at how we can wrap that into a function called `my_mean`. Remember: Functions can have an input (in our case the `ages`-list) and they can also return an output (in our case the mean age).  Functions are defined by using the key-word `def` follwoed by the name we want to give the function. Have a look at the code below and see if you can sport where we specified the input and output.\n",
    "\n",
    "Then try to complete the function by adding the formula for the mean_age. Check your code by running the cell beneath the function definition."
   ]
  },
  {
   "cell_type": "code",
   "execution_count": 21,
   "metadata": {},
   "outputs": [],
   "source": [
    "#define function\n",
    "def my_mean(ages_list):\n",
    "    \n",
    "    mean_age = ...\n",
    "    \n",
    "    return mean_age"
   ]
  },
  {
   "cell_type": "code",
   "execution_count": 23,
   "metadata": {},
   "outputs": [],
   "source": [
    "# call function\n",
    "my_mean(ages)"
   ]
  },
  {
   "cell_type": "markdown",
   "metadata": {},
   "source": [
    "4. However, we can make life easier and just use the inbuild `mean()` function. Try it yourself!"
   ]
  },
  {
   "cell_type": "code",
   "execution_count": null,
   "metadata": {},
   "outputs": [],
   "source": [
    "mean_age = ..."
   ]
  },
  {
   "cell_type": "markdown",
   "metadata": {},
   "source": [
    "5. Now that we know how to define functions, let's create a function that returns how many people in our group have pets.   \n",
    "Complete the code below to do so:\n"
   ]
  },
  {
   "cell_type": "code",
   "execution_count": null,
   "metadata": {},
   "outputs": [],
   "source": [
    "pets= [\"Yes\", \"No\", \"No\"]\n",
    "\n",
    "# TO-DO: complete the function definition:\n",
    "\n",
    "# 1. Include the correct input argument\n",
    "def have_pets(...):\n",
    "    \n",
    "    # variable to count how many people have pets\n",
    "    count_pets = 0\n",
    "    \n",
    "    # 2. Loop though list: \n",
    "    for ... : \n",
    "        \n",
    "        # 3. Check if element in list is a \"yes\" (tip: You need to ask python a specific question.)\n",
    "        ...\n",
    "            \n",
    "            # 4: Update count variable: \n",
    "            count_pets = ...\n",
    "            \n",
    "    \n",
    "    # 5. Return the final number of people with pets\n",
    "    ...\n",
    "    "
   ]
  },
  {
   "cell_type": "code",
   "execution_count": null,
   "metadata": {},
   "outputs": [],
   "source": [
    "# check your function: \n",
    "have_pets(pets)"
   ]
  },
  {
   "cell_type": "markdown",
   "metadata": {},
   "source": [
    "6. Lastly, let's have a look at importing other libraries. We will use the `random`-library which contains a lot of functions that - the name gives it away - allow us to do things that involve some sort of randomness (e.g. picking a random element from a list, shuffling a list randomly, ...). \n",
    "\n",
    "We can make a game out of it. Let's use  to randomly pick a name out of the `names` list. This person has to buy you a coffee. Just kidding. But you could use this block of code to determine who of your friends has to pay the first round of drinks once lockdown is over. \n",
    "\n",
    "Have a look at how `random.choice()` works: https://www.w3schools.com/python/ref_random_choice.asp. "
   ]
  },
  {
   "cell_type": "code",
   "execution_count": null,
   "metadata": {},
   "outputs": [],
   "source": [
    "# import random module\n",
    "import random \n",
    "\n",
    "# TODO: use random.choice() functiom \n",
    "pay_drink = ... \n",
    "\n",
    "print(pay_drink + \" has to pay the first round of drinks after lockdown.\")"
   ]
  },
  {
   "cell_type": "markdown",
   "metadata": {},
   "source": [
    "7. We could also solve the task above in a different way. Use `random.randint()` (https://www.w3schools.com/python/ref_random_randint.asp), then index the names list at the position that this function picked. "
   ]
  },
  {
   "cell_type": "code",
   "execution_count": null,
   "metadata": {},
   "outputs": [],
   "source": [
    "# 1: use random.randint to create a random index. What are the possible indexes that you need to provide \n",
    "# to the function. Tip: you can use len() to find out. \n",
    "random_index = ...\n",
    "\n",
    "# 2: use the random index to index the names list\n",
    "pay_drink = ...\n",
    "\n",
    "print(pay_drink + \" has to pay the first round of drinks after lockdown.\")"
   ]
  },
  {
   "cell_type": "markdown",
   "metadata": {},
   "source": [
    "<div class=\"alert alert-block alert-warning\">\n",
    "<b>Fantastic!</b> You made it through the notebook. Come back to the main room and let us know that you are done. \n",
    "</div>"
   ]
  }
 ],
 "metadata": {
  "kernelspec": {
   "display_name": "Python 3",
   "language": "python",
   "name": "python3"
  },
  "language_info": {
   "codemirror_mode": {
    "name": "ipython",
    "version": 3
   },
   "file_extension": ".py",
   "mimetype": "text/x-python",
   "name": "python",
   "nbconvert_exporter": "python",
   "pygments_lexer": "ipython3",
   "version": "3.8.5"
  }
 },
 "nbformat": 4,
 "nbformat_minor": 4
}
