{
 "cells": [
  {
   "cell_type": "markdown",
   "metadata": {},
   "source": [
    "# Analysing Experimental Data in Table Form with Pandas\n",
    "\n",
    "There are (as usually the case with python) many different ways and packages to do data analysis and visualisation in python. The package we will look at in this notebook is called [Pandas](https://pandas.pydata.org) and is probably the most widely used python package for data analysis if the data is in table form. There are many ressources online for free that we encourage you to check out. This notebook will really only scratch the surface of what you can do with pandas. "
   ]
  },
  {
   "cell_type": "code",
   "execution_count": 1,
   "metadata": {},
   "outputs": [],
   "source": [
    "# Import pandas as pd\n",
    "import pandas as pd"
   ]
  },
  {
   "cell_type": "markdown",
   "metadata": {},
   "source": [
    "### Loading data file\n",
    "\n",
    "The file \"data.csv\" contains results from a participant who participated in the gaze cue experiment you programmed today! See image below for a reminder of the trial sequence:\n",
    "\n",
    "![alt text](gazecue.png)\n",
    "\n",
    "using `.read_csv` we can read in our data file and store it under `df`."
   ]
  },
  {
   "cell_type": "code",
   "execution_count": 2,
   "metadata": {},
   "outputs": [
    {
     "data": {
      "text/plain": [
       "pandas.core.frame.DataFrame"
      ]
     },
     "execution_count": 2,
     "metadata": {},
     "output_type": "execute_result"
    }
   ],
   "source": [
    "df = pd.read_csv(\"data.csv\")\n",
    "type(df)"
   ]
  },
  {
   "cell_type": "code",
   "execution_count": 3,
   "metadata": {},
   "outputs": [
    {
     "data": {
      "text/html": [
       "<div>\n",
       "<style scoped>\n",
       "    .dataframe tbody tr th:only-of-type {\n",
       "        vertical-align: middle;\n",
       "    }\n",
       "\n",
       "    .dataframe tbody tr th {\n",
       "        vertical-align: top;\n",
       "    }\n",
       "\n",
       "    .dataframe thead th {\n",
       "        text-align: right;\n",
       "    }\n",
       "</style>\n",
       "<table border=\"1\" class=\"dataframe\">\n",
       "  <thead>\n",
       "    <tr style=\"text-align: right;\">\n",
       "      <th></th>\n",
       "      <th>subject_id</th>\n",
       "      <th>gaze</th>\n",
       "      <th>target</th>\n",
       "      <th>position</th>\n",
       "      <th>congruency</th>\n",
       "      <th>response</th>\n",
       "      <th>rt</th>\n",
       "      <th>correct_response</th>\n",
       "      <th>correct</th>\n",
       "    </tr>\n",
       "  </thead>\n",
       "  <tbody>\n",
       "    <tr>\n",
       "      <th>0</th>\n",
       "      <td>example</td>\n",
       "      <td>left</td>\n",
       "      <td>H</td>\n",
       "      <td>left</td>\n",
       "      <td>congruent</td>\n",
       "      <td>m</td>\n",
       "      <td>0.471526</td>\n",
       "      <td>m</td>\n",
       "      <td>1</td>\n",
       "    </tr>\n",
       "    <tr>\n",
       "      <th>1</th>\n",
       "      <td>example</td>\n",
       "      <td>left</td>\n",
       "      <td>F</td>\n",
       "      <td>right</td>\n",
       "      <td>incongruent</td>\n",
       "      <td>y</td>\n",
       "      <td>0.385041</td>\n",
       "      <td>y</td>\n",
       "      <td>1</td>\n",
       "    </tr>\n",
       "    <tr>\n",
       "      <th>2</th>\n",
       "      <td>example</td>\n",
       "      <td>right</td>\n",
       "      <td>F</td>\n",
       "      <td>right</td>\n",
       "      <td>congruent</td>\n",
       "      <td>m</td>\n",
       "      <td>0.315384</td>\n",
       "      <td>y</td>\n",
       "      <td>0</td>\n",
       "    </tr>\n",
       "    <tr>\n",
       "      <th>3</th>\n",
       "      <td>example</td>\n",
       "      <td>right</td>\n",
       "      <td>H</td>\n",
       "      <td>left</td>\n",
       "      <td>incongruent</td>\n",
       "      <td>y</td>\n",
       "      <td>0.327810</td>\n",
       "      <td>m</td>\n",
       "      <td>0</td>\n",
       "    </tr>\n",
       "    <tr>\n",
       "      <th>4</th>\n",
       "      <td>example</td>\n",
       "      <td>right</td>\n",
       "      <td>H</td>\n",
       "      <td>right</td>\n",
       "      <td>congruent</td>\n",
       "      <td>m</td>\n",
       "      <td>0.319960</td>\n",
       "      <td>m</td>\n",
       "      <td>1</td>\n",
       "    </tr>\n",
       "    <tr>\n",
       "      <th>5</th>\n",
       "      <td>example</td>\n",
       "      <td>left</td>\n",
       "      <td>F</td>\n",
       "      <td>left</td>\n",
       "      <td>congruent</td>\n",
       "      <td>m</td>\n",
       "      <td>0.359625</td>\n",
       "      <td>y</td>\n",
       "      <td>0</td>\n",
       "    </tr>\n",
       "    <tr>\n",
       "      <th>6</th>\n",
       "      <td>example</td>\n",
       "      <td>left</td>\n",
       "      <td>F</td>\n",
       "      <td>left</td>\n",
       "      <td>congruent</td>\n",
       "      <td>y</td>\n",
       "      <td>0.396527</td>\n",
       "      <td>y</td>\n",
       "      <td>1</td>\n",
       "    </tr>\n",
       "    <tr>\n",
       "      <th>7</th>\n",
       "      <td>example</td>\n",
       "      <td>left</td>\n",
       "      <td>F</td>\n",
       "      <td>right</td>\n",
       "      <td>incongruent</td>\n",
       "      <td>m</td>\n",
       "      <td>0.341541</td>\n",
       "      <td>y</td>\n",
       "      <td>0</td>\n",
       "    </tr>\n",
       "    <tr>\n",
       "      <th>8</th>\n",
       "      <td>example</td>\n",
       "      <td>right</td>\n",
       "      <td>F</td>\n",
       "      <td>right</td>\n",
       "      <td>congruent</td>\n",
       "      <td>y</td>\n",
       "      <td>0.423950</td>\n",
       "      <td>y</td>\n",
       "      <td>1</td>\n",
       "    </tr>\n",
       "    <tr>\n",
       "      <th>9</th>\n",
       "      <td>example</td>\n",
       "      <td>left</td>\n",
       "      <td>H</td>\n",
       "      <td>left</td>\n",
       "      <td>congruent</td>\n",
       "      <td>m</td>\n",
       "      <td>0.325600</td>\n",
       "      <td>m</td>\n",
       "      <td>1</td>\n",
       "    </tr>\n",
       "    <tr>\n",
       "      <th>10</th>\n",
       "      <td>example</td>\n",
       "      <td>left</td>\n",
       "      <td>H</td>\n",
       "      <td>right</td>\n",
       "      <td>incongruent</td>\n",
       "      <td>y</td>\n",
       "      <td>0.326414</td>\n",
       "      <td>m</td>\n",
       "      <td>0</td>\n",
       "    </tr>\n",
       "    <tr>\n",
       "      <th>11</th>\n",
       "      <td>example</td>\n",
       "      <td>right</td>\n",
       "      <td>H</td>\n",
       "      <td>left</td>\n",
       "      <td>incongruent</td>\n",
       "      <td>m</td>\n",
       "      <td>0.314234</td>\n",
       "      <td>m</td>\n",
       "      <td>1</td>\n",
       "    </tr>\n",
       "    <tr>\n",
       "      <th>12</th>\n",
       "      <td>example</td>\n",
       "      <td>right</td>\n",
       "      <td>H</td>\n",
       "      <td>right</td>\n",
       "      <td>congruent</td>\n",
       "      <td>y</td>\n",
       "      <td>0.430067</td>\n",
       "      <td>m</td>\n",
       "      <td>0</td>\n",
       "    </tr>\n",
       "    <tr>\n",
       "      <th>13</th>\n",
       "      <td>example</td>\n",
       "      <td>right</td>\n",
       "      <td>F</td>\n",
       "      <td>left</td>\n",
       "      <td>incongruent</td>\n",
       "      <td>m</td>\n",
       "      <td>0.310507</td>\n",
       "      <td>y</td>\n",
       "      <td>0</td>\n",
       "    </tr>\n",
       "    <tr>\n",
       "      <th>14</th>\n",
       "      <td>example</td>\n",
       "      <td>left</td>\n",
       "      <td>H</td>\n",
       "      <td>right</td>\n",
       "      <td>incongruent</td>\n",
       "      <td>y</td>\n",
       "      <td>0.394205</td>\n",
       "      <td>m</td>\n",
       "      <td>0</td>\n",
       "    </tr>\n",
       "    <tr>\n",
       "      <th>15</th>\n",
       "      <td>example</td>\n",
       "      <td>right</td>\n",
       "      <td>F</td>\n",
       "      <td>left</td>\n",
       "      <td>incongruent</td>\n",
       "      <td>m</td>\n",
       "      <td>0.335534</td>\n",
       "      <td>y</td>\n",
       "      <td>0</td>\n",
       "    </tr>\n",
       "  </tbody>\n",
       "</table>\n",
       "</div>"
      ],
      "text/plain": [
       "   subject_id   gaze target position   congruency response        rt  \\\n",
       "0     example   left      H     left    congruent        m  0.471526   \n",
       "1     example   left      F    right  incongruent        y  0.385041   \n",
       "2     example  right      F    right    congruent        m  0.315384   \n",
       "3     example  right      H     left  incongruent        y  0.327810   \n",
       "4     example  right      H    right    congruent        m  0.319960   \n",
       "5     example   left      F     left    congruent        m  0.359625   \n",
       "6     example   left      F     left    congruent        y  0.396527   \n",
       "7     example   left      F    right  incongruent        m  0.341541   \n",
       "8     example  right      F    right    congruent        y  0.423950   \n",
       "9     example   left      H     left    congruent        m  0.325600   \n",
       "10    example   left      H    right  incongruent        y  0.326414   \n",
       "11    example  right      H     left  incongruent        m  0.314234   \n",
       "12    example  right      H    right    congruent        y  0.430067   \n",
       "13    example  right      F     left  incongruent        m  0.310507   \n",
       "14    example   left      H    right  incongruent        y  0.394205   \n",
       "15    example  right      F     left  incongruent        m  0.335534   \n",
       "\n",
       "   correct_response  correct  \n",
       "0                 m        1  \n",
       "1                 y        1  \n",
       "2                 y        0  \n",
       "3                 m        0  \n",
       "4                 m        1  \n",
       "5                 y        0  \n",
       "6                 y        1  \n",
       "7                 y        0  \n",
       "8                 y        1  \n",
       "9                 m        1  \n",
       "10                m        0  \n",
       "11                m        1  \n",
       "12                m        0  \n",
       "13                y        0  \n",
       "14                m        0  \n",
       "15                y        0  "
      ]
     },
     "execution_count": 3,
     "metadata": {},
     "output_type": "execute_result"
    }
   ],
   "source": [
    "#Let's look at what df looks like!\n",
    "df"
   ]
  },
  {
   "cell_type": "markdown",
   "metadata": {},
   "source": [
    "As you can see, we have 9 columns with 15 rows, each row representing a trial. `Congruency` refers to whether **gaze cue** and **target position** matched in a trial (if yes = congruent, if no = incongruent), the other variables here are pretty self explanatory."
   ]
  },
  {
   "cell_type": "markdown",
   "metadata": {},
   "source": [
    "### Data frame slicing\n",
    "\n",
    "If you want to look at a specific column you can use square brackets and the column name to *slice* the data frame."
   ]
  },
  {
   "cell_type": "code",
   "execution_count": 4,
   "metadata": {},
   "outputs": [
    {
     "data": {
      "text/plain": [
       "0      left\n",
       "1      left\n",
       "2     right\n",
       "3     right\n",
       "4     right\n",
       "5      left\n",
       "6      left\n",
       "7      left\n",
       "8     right\n",
       "9      left\n",
       "10     left\n",
       "11    right\n",
       "12    right\n",
       "13    right\n",
       "14     left\n",
       "15    right\n",
       "Name: gaze, dtype: object"
      ]
     },
     "execution_count": 4,
     "metadata": {},
     "output_type": "execute_result"
    }
   ],
   "source": [
    "df[\"gaze\"]"
   ]
  },
  {
   "cell_type": "markdown",
   "metadata": {},
   "source": [
    "<div class=\"alert alert-block alert-info\">\n",
    "<b>Slicing:</b> There is a number of ways to slice a data frame i.e. select specific rows and/or columns. We won't go over every single one here but just note that in pandas there is many ways to come to the same conclusion.\n",
    "</div>\n",
    "\n",
    "For more information on indexing in pandas: https://pandas.pydata.org/pandas-docs/stable/user_guide/indexing.html"
   ]
  },
  {
   "cell_type": "markdown",
   "metadata": {},
   "source": [
    "### Data frame methods, helper functions\n",
    "\n",
    "Pandas has a lot of data frame methods that allow us to do basic analyses."
   ]
  },
  {
   "cell_type": "code",
   "execution_count": 5,
   "metadata": {},
   "outputs": [
    {
     "data": {
      "text/html": [
       "<div>\n",
       "<style scoped>\n",
       "    .dataframe tbody tr th:only-of-type {\n",
       "        vertical-align: middle;\n",
       "    }\n",
       "\n",
       "    .dataframe tbody tr th {\n",
       "        vertical-align: top;\n",
       "    }\n",
       "\n",
       "    .dataframe thead th {\n",
       "        text-align: right;\n",
       "    }\n",
       "</style>\n",
       "<table border=\"1\" class=\"dataframe\">\n",
       "  <thead>\n",
       "    <tr style=\"text-align: right;\">\n",
       "      <th></th>\n",
       "      <th>rt</th>\n",
       "      <th>correct</th>\n",
       "    </tr>\n",
       "  </thead>\n",
       "  <tbody>\n",
       "    <tr>\n",
       "      <th>count</th>\n",
       "      <td>16.000000</td>\n",
       "      <td>16.000000</td>\n",
       "    </tr>\n",
       "    <tr>\n",
       "      <th>mean</th>\n",
       "      <td>0.361120</td>\n",
       "      <td>0.437500</td>\n",
       "    </tr>\n",
       "    <tr>\n",
       "      <th>std</th>\n",
       "      <td>0.049647</td>\n",
       "      <td>0.512348</td>\n",
       "    </tr>\n",
       "    <tr>\n",
       "      <th>min</th>\n",
       "      <td>0.310507</td>\n",
       "      <td>0.000000</td>\n",
       "    </tr>\n",
       "    <tr>\n",
       "      <th>25%</th>\n",
       "      <td>0.324190</td>\n",
       "      <td>0.000000</td>\n",
       "    </tr>\n",
       "    <tr>\n",
       "      <th>50%</th>\n",
       "      <td>0.338538</td>\n",
       "      <td>0.000000</td>\n",
       "    </tr>\n",
       "    <tr>\n",
       "      <th>75%</th>\n",
       "      <td>0.394785</td>\n",
       "      <td>1.000000</td>\n",
       "    </tr>\n",
       "    <tr>\n",
       "      <th>max</th>\n",
       "      <td>0.471526</td>\n",
       "      <td>1.000000</td>\n",
       "    </tr>\n",
       "  </tbody>\n",
       "</table>\n",
       "</div>"
      ],
      "text/plain": [
       "              rt    correct\n",
       "count  16.000000  16.000000\n",
       "mean    0.361120   0.437500\n",
       "std     0.049647   0.512348\n",
       "min     0.310507   0.000000\n",
       "25%     0.324190   0.000000\n",
       "50%     0.338538   0.000000\n",
       "75%     0.394785   1.000000\n",
       "max     0.471526   1.000000"
      ]
     },
     "execution_count": 5,
     "metadata": {},
     "output_type": "execute_result"
    }
   ],
   "source": [
    "# run this cell and see what it does\n",
    "df.describe()"
   ]
  },
  {
   "cell_type": "markdown",
   "metadata": {},
   "source": [
    "<div class=\"alert alert-block alert-info\">\n",
    "<b>Methods:</b> Dataframe methods can be accessed via giving the name of the dataframe (df) then \".\" and then you can scroll through available methods with \"tab\". Remember to add \"( )\" at the end. There are a lot of useful methods to support basic analyses.\n",
    "</div>"
   ]
  },
  {
   "cell_type": "markdown",
   "metadata": {},
   "source": [
    "**Test out different methods below:**"
   ]
  },
  {
   "cell_type": "code",
   "execution_count": 6,
   "metadata": {},
   "outputs": [
    {
     "data": {
      "text/html": [
       "<div>\n",
       "<style scoped>\n",
       "    .dataframe tbody tr th:only-of-type {\n",
       "        vertical-align: middle;\n",
       "    }\n",
       "\n",
       "    .dataframe tbody tr th {\n",
       "        vertical-align: top;\n",
       "    }\n",
       "\n",
       "    .dataframe thead th {\n",
       "        text-align: right;\n",
       "    }\n",
       "</style>\n",
       "<table border=\"1\" class=\"dataframe\">\n",
       "  <thead>\n",
       "    <tr style=\"text-align: right;\">\n",
       "      <th></th>\n",
       "      <th>subject_id</th>\n",
       "      <th>gaze</th>\n",
       "      <th>target</th>\n",
       "      <th>position</th>\n",
       "      <th>congruency</th>\n",
       "      <th>response</th>\n",
       "      <th>rt</th>\n",
       "      <th>correct_response</th>\n",
       "      <th>correct</th>\n",
       "    </tr>\n",
       "  </thead>\n",
       "  <tbody>\n",
       "    <tr>\n",
       "      <th>0</th>\n",
       "      <td>example</td>\n",
       "      <td>left</td>\n",
       "      <td>H</td>\n",
       "      <td>left</td>\n",
       "      <td>congruent</td>\n",
       "      <td>m</td>\n",
       "      <td>0.471526</td>\n",
       "      <td>m</td>\n",
       "      <td>1</td>\n",
       "    </tr>\n",
       "    <tr>\n",
       "      <th>1</th>\n",
       "      <td>example</td>\n",
       "      <td>left</td>\n",
       "      <td>F</td>\n",
       "      <td>right</td>\n",
       "      <td>incongruent</td>\n",
       "      <td>y</td>\n",
       "      <td>0.385041</td>\n",
       "      <td>y</td>\n",
       "      <td>1</td>\n",
       "    </tr>\n",
       "    <tr>\n",
       "      <th>2</th>\n",
       "      <td>example</td>\n",
       "      <td>right</td>\n",
       "      <td>F</td>\n",
       "      <td>right</td>\n",
       "      <td>congruent</td>\n",
       "      <td>m</td>\n",
       "      <td>0.315384</td>\n",
       "      <td>y</td>\n",
       "      <td>0</td>\n",
       "    </tr>\n",
       "  </tbody>\n",
       "</table>\n",
       "</div>"
      ],
      "text/plain": [
       "  subject_id   gaze target position   congruency response        rt  \\\n",
       "0    example   left      H     left    congruent        m  0.471526   \n",
       "1    example   left      F    right  incongruent        y  0.385041   \n",
       "2    example  right      F    right    congruent        m  0.315384   \n",
       "\n",
       "  correct_response  correct  \n",
       "0                m        1  \n",
       "1                y        1  \n",
       "2                y        0  "
      ]
     },
     "execution_count": 6,
     "metadata": {},
     "output_type": "execute_result"
    }
   ],
   "source": [
    "# shows the first 3 rows - especially useful with large data frames\n",
    "df.head(3)"
   ]
  },
  {
   "cell_type": "code",
   "execution_count": 7,
   "metadata": {},
   "outputs": [
    {
     "data": {
      "text/html": [
       "<div>\n",
       "<style scoped>\n",
       "    .dataframe tbody tr th:only-of-type {\n",
       "        vertical-align: middle;\n",
       "    }\n",
       "\n",
       "    .dataframe tbody tr th {\n",
       "        vertical-align: top;\n",
       "    }\n",
       "\n",
       "    .dataframe thead th {\n",
       "        text-align: right;\n",
       "    }\n",
       "</style>\n",
       "<table border=\"1\" class=\"dataframe\">\n",
       "  <thead>\n",
       "    <tr style=\"text-align: right;\">\n",
       "      <th></th>\n",
       "      <th>subject_id</th>\n",
       "      <th>gaze</th>\n",
       "      <th>target</th>\n",
       "      <th>position</th>\n",
       "      <th>congruency</th>\n",
       "      <th>response</th>\n",
       "      <th>rt</th>\n",
       "      <th>correct_response</th>\n",
       "      <th>correct</th>\n",
       "    </tr>\n",
       "  </thead>\n",
       "  <tbody>\n",
       "    <tr>\n",
       "      <th>15</th>\n",
       "      <td>example</td>\n",
       "      <td>right</td>\n",
       "      <td>F</td>\n",
       "      <td>left</td>\n",
       "      <td>incongruent</td>\n",
       "      <td>m</td>\n",
       "      <td>0.335534</td>\n",
       "      <td>y</td>\n",
       "      <td>0</td>\n",
       "    </tr>\n",
       "  </tbody>\n",
       "</table>\n",
       "</div>"
      ],
      "text/plain": [
       "   subject_id   gaze target position   congruency response        rt  \\\n",
       "15    example  right      F     left  incongruent        m  0.335534   \n",
       "\n",
       "   correct_response  correct  \n",
       "15                y        0  "
      ]
     },
     "execution_count": 7,
     "metadata": {},
     "output_type": "execute_result"
    }
   ],
   "source": [
    "# shows last few rows \n",
    "df.tail(1)"
   ]
  },
  {
   "cell_type": "code",
   "execution_count": 8,
   "metadata": {},
   "outputs": [
    {
     "data": {
      "text/plain": [
       "0.4375"
      ]
     },
     "execution_count": 8,
     "metadata": {},
     "output_type": "execute_result"
    }
   ],
   "source": [
    "# gives you mean for selected column accuracy\n",
    "df[\"correct\"].mean()\n",
    "# is the same as \n",
    "df.mean()[\"correct\"]"
   ]
  },
  {
   "cell_type": "code",
   "execution_count": 9,
   "metadata": {},
   "outputs": [
    {
     "data": {
      "text/plain": [
       "array(['left', 'right'], dtype=object)"
      ]
     },
     "execution_count": 9,
     "metadata": {},
     "output_type": "execute_result"
    }
   ],
   "source": [
    "# gives unique entries for column gaze\n",
    "df[\"gaze\"].unique()"
   ]
  },
  {
   "cell_type": "code",
   "execution_count": 10,
   "metadata": {},
   "outputs": [
    {
     "data": {
      "text/plain": [
       "right    8\n",
       "left     8\n",
       "Name: gaze, dtype: int64"
      ]
     },
     "execution_count": 10,
     "metadata": {},
     "output_type": "execute_result"
    }
   ],
   "source": [
    "# counts number of entries per condition for column gaze\n",
    "df[\"gaze\"].value_counts()"
   ]
  },
  {
   "cell_type": "markdown",
   "metadata": {},
   "source": [
    "These helper functions even include some basic plots!"
   ]
  },
  {
   "cell_type": "code",
   "execution_count": 11,
   "metadata": {},
   "outputs": [
    {
     "data": {
      "text/plain": [
       "<AxesSubplot:>"
      ]
     },
     "execution_count": 11,
     "metadata": {},
     "output_type": "execute_result"
    },
    {
     "data": {
      "image/png": "[encoded data removed]",
      "text/plain": [
       "<Figure size 432x288 with 1 Axes>"
      ]
     },
     "metadata": {
      "needs_background": "light"
     },
     "output_type": "display_data"
    }
   ],
   "source": [
    "# histogram of accuracy\n",
    "df[\"correct\"].hist()"
   ]
  },
  {
   "cell_type": "code",
   "execution_count": 12,
   "metadata": {},
   "outputs": [
    {
     "data": {
      "text/plain": [
       "<AxesSubplot:>"
      ]
     },
     "execution_count": 12,
     "metadata": {},
     "output_type": "execute_result"
    },
    {
     "data": {
      "image/png": "[encoded data removed]",
      "text/plain": [
       "<Figure size 432x288 with 1 Axes>"
      ]
     },
     "metadata": {
      "needs_background": "light"
     },
     "output_type": "display_data"
    }
   ],
   "source": [
    "df[\"rt\"].hist()"
   ]
  },
  {
   "cell_type": "markdown",
   "metadata": {},
   "source": [
    "### Comparisons\n",
    "\n",
    "You can pretty easily add new columns to a data frame (see below)."
   ]
  },
  {
   "cell_type": "code",
   "execution_count": 14,
   "metadata": {},
   "outputs": [
    {
     "data": {
      "text/html": [
       "<div>\n",
       "<style scoped>\n",
       "    .dataframe tbody tr th:only-of-type {\n",
       "        vertical-align: middle;\n",
       "    }\n",
       "\n",
       "    .dataframe tbody tr th {\n",
       "        vertical-align: top;\n",
       "    }\n",
       "\n",
       "    .dataframe thead th {\n",
       "        text-align: right;\n",
       "    }\n",
       "</style>\n",
       "<table border=\"1\" class=\"dataframe\">\n",
       "  <thead>\n",
       "    <tr style=\"text-align: right;\">\n",
       "      <th></th>\n",
       "      <th>subject_id</th>\n",
       "      <th>gaze</th>\n",
       "      <th>target</th>\n",
       "      <th>position</th>\n",
       "      <th>congruency</th>\n",
       "      <th>response</th>\n",
       "      <th>rt</th>\n",
       "      <th>correct_response</th>\n",
       "      <th>correct</th>\n",
       "      <th>slow</th>\n",
       "    </tr>\n",
       "  </thead>\n",
       "  <tbody>\n",
       "    <tr>\n",
       "      <th>0</th>\n",
       "      <td>example</td>\n",
       "      <td>left</td>\n",
       "      <td>H</td>\n",
       "      <td>left</td>\n",
       "      <td>congruent</td>\n",
       "      <td>m</td>\n",
       "      <td>0.471526</td>\n",
       "      <td>m</td>\n",
       "      <td>1</td>\n",
       "      <td>True</td>\n",
       "    </tr>\n",
       "    <tr>\n",
       "      <th>1</th>\n",
       "      <td>example</td>\n",
       "      <td>left</td>\n",
       "      <td>F</td>\n",
       "      <td>right</td>\n",
       "      <td>incongruent</td>\n",
       "      <td>y</td>\n",
       "      <td>0.385041</td>\n",
       "      <td>y</td>\n",
       "      <td>1</td>\n",
       "      <td>False</td>\n",
       "    </tr>\n",
       "    <tr>\n",
       "      <th>2</th>\n",
       "      <td>example</td>\n",
       "      <td>right</td>\n",
       "      <td>F</td>\n",
       "      <td>right</td>\n",
       "      <td>congruent</td>\n",
       "      <td>m</td>\n",
       "      <td>0.315384</td>\n",
       "      <td>y</td>\n",
       "      <td>0</td>\n",
       "      <td>False</td>\n",
       "    </tr>\n",
       "    <tr>\n",
       "      <th>3</th>\n",
       "      <td>example</td>\n",
       "      <td>right</td>\n",
       "      <td>H</td>\n",
       "      <td>left</td>\n",
       "      <td>incongruent</td>\n",
       "      <td>y</td>\n",
       "      <td>0.327810</td>\n",
       "      <td>m</td>\n",
       "      <td>0</td>\n",
       "      <td>False</td>\n",
       "    </tr>\n",
       "    <tr>\n",
       "      <th>4</th>\n",
       "      <td>example</td>\n",
       "      <td>right</td>\n",
       "      <td>H</td>\n",
       "      <td>right</td>\n",
       "      <td>congruent</td>\n",
       "      <td>m</td>\n",
       "      <td>0.319960</td>\n",
       "      <td>m</td>\n",
       "      <td>1</td>\n",
       "      <td>False</td>\n",
       "    </tr>\n",
       "    <tr>\n",
       "      <th>5</th>\n",
       "      <td>example</td>\n",
       "      <td>left</td>\n",
       "      <td>F</td>\n",
       "      <td>left</td>\n",
       "      <td>congruent</td>\n",
       "      <td>m</td>\n",
       "      <td>0.359625</td>\n",
       "      <td>y</td>\n",
       "      <td>0</td>\n",
       "      <td>False</td>\n",
       "    </tr>\n",
       "    <tr>\n",
       "      <th>6</th>\n",
       "      <td>example</td>\n",
       "      <td>left</td>\n",
       "      <td>F</td>\n",
       "      <td>left</td>\n",
       "      <td>congruent</td>\n",
       "      <td>y</td>\n",
       "      <td>0.396527</td>\n",
       "      <td>y</td>\n",
       "      <td>1</td>\n",
       "      <td>False</td>\n",
       "    </tr>\n",
       "    <tr>\n",
       "      <th>7</th>\n",
       "      <td>example</td>\n",
       "      <td>left</td>\n",
       "      <td>F</td>\n",
       "      <td>right</td>\n",
       "      <td>incongruent</td>\n",
       "      <td>m</td>\n",
       "      <td>0.341541</td>\n",
       "      <td>y</td>\n",
       "      <td>0</td>\n",
       "      <td>False</td>\n",
       "    </tr>\n",
       "    <tr>\n",
       "      <th>8</th>\n",
       "      <td>example</td>\n",
       "      <td>right</td>\n",
       "      <td>F</td>\n",
       "      <td>right</td>\n",
       "      <td>congruent</td>\n",
       "      <td>y</td>\n",
       "      <td>0.423950</td>\n",
       "      <td>y</td>\n",
       "      <td>1</td>\n",
       "      <td>True</td>\n",
       "    </tr>\n",
       "    <tr>\n",
       "      <th>9</th>\n",
       "      <td>example</td>\n",
       "      <td>left</td>\n",
       "      <td>H</td>\n",
       "      <td>left</td>\n",
       "      <td>congruent</td>\n",
       "      <td>m</td>\n",
       "      <td>0.325600</td>\n",
       "      <td>m</td>\n",
       "      <td>1</td>\n",
       "      <td>False</td>\n",
       "    </tr>\n",
       "    <tr>\n",
       "      <th>10</th>\n",
       "      <td>example</td>\n",
       "      <td>left</td>\n",
       "      <td>H</td>\n",
       "      <td>right</td>\n",
       "      <td>incongruent</td>\n",
       "      <td>y</td>\n",
       "      <td>0.326414</td>\n",
       "      <td>m</td>\n",
       "      <td>0</td>\n",
       "      <td>False</td>\n",
       "    </tr>\n",
       "    <tr>\n",
       "      <th>11</th>\n",
       "      <td>example</td>\n",
       "      <td>right</td>\n",
       "      <td>H</td>\n",
       "      <td>left</td>\n",
       "      <td>incongruent</td>\n",
       "      <td>m</td>\n",
       "      <td>0.314234</td>\n",
       "      <td>m</td>\n",
       "      <td>1</td>\n",
       "      <td>False</td>\n",
       "    </tr>\n",
       "    <tr>\n",
       "      <th>12</th>\n",
       "      <td>example</td>\n",
       "      <td>right</td>\n",
       "      <td>H</td>\n",
       "      <td>right</td>\n",
       "      <td>congruent</td>\n",
       "      <td>y</td>\n",
       "      <td>0.430067</td>\n",
       "      <td>m</td>\n",
       "      <td>0</td>\n",
       "      <td>True</td>\n",
       "    </tr>\n",
       "    <tr>\n",
       "      <th>13</th>\n",
       "      <td>example</td>\n",
       "      <td>right</td>\n",
       "      <td>F</td>\n",
       "      <td>left</td>\n",
       "      <td>incongruent</td>\n",
       "      <td>m</td>\n",
       "      <td>0.310507</td>\n",
       "      <td>y</td>\n",
       "      <td>0</td>\n",
       "      <td>False</td>\n",
       "    </tr>\n",
       "    <tr>\n",
       "      <th>14</th>\n",
       "      <td>example</td>\n",
       "      <td>left</td>\n",
       "      <td>H</td>\n",
       "      <td>right</td>\n",
       "      <td>incongruent</td>\n",
       "      <td>y</td>\n",
       "      <td>0.394205</td>\n",
       "      <td>m</td>\n",
       "      <td>0</td>\n",
       "      <td>False</td>\n",
       "    </tr>\n",
       "    <tr>\n",
       "      <th>15</th>\n",
       "      <td>example</td>\n",
       "      <td>right</td>\n",
       "      <td>F</td>\n",
       "      <td>left</td>\n",
       "      <td>incongruent</td>\n",
       "      <td>m</td>\n",
       "      <td>0.335534</td>\n",
       "      <td>y</td>\n",
       "      <td>0</td>\n",
       "      <td>False</td>\n",
       "    </tr>\n",
       "  </tbody>\n",
       "</table>\n",
       "</div>"
      ],
      "text/plain": [
       "   subject_id   gaze target position   congruency response        rt  \\\n",
       "0     example   left      H     left    congruent        m  0.471526   \n",
       "1     example   left      F    right  incongruent        y  0.385041   \n",
       "2     example  right      F    right    congruent        m  0.315384   \n",
       "3     example  right      H     left  incongruent        y  0.327810   \n",
       "4     example  right      H    right    congruent        m  0.319960   \n",
       "5     example   left      F     left    congruent        m  0.359625   \n",
       "6     example   left      F     left    congruent        y  0.396527   \n",
       "7     example   left      F    right  incongruent        m  0.341541   \n",
       "8     example  right      F    right    congruent        y  0.423950   \n",
       "9     example   left      H     left    congruent        m  0.325600   \n",
       "10    example   left      H    right  incongruent        y  0.326414   \n",
       "11    example  right      H     left  incongruent        m  0.314234   \n",
       "12    example  right      H    right    congruent        y  0.430067   \n",
       "13    example  right      F     left  incongruent        m  0.310507   \n",
       "14    example   left      H    right  incongruent        y  0.394205   \n",
       "15    example  right      F     left  incongruent        m  0.335534   \n",
       "\n",
       "   correct_response  correct   slow  \n",
       "0                 m        1   True  \n",
       "1                 y        1  False  \n",
       "2                 y        0  False  \n",
       "3                 m        0  False  \n",
       "4                 m        1  False  \n",
       "5                 y        0  False  \n",
       "6                 y        1  False  \n",
       "7                 y        0  False  \n",
       "8                 y        1   True  \n",
       "9                 m        1  False  \n",
       "10                m        0  False  \n",
       "11                m        1  False  \n",
       "12                m        0   True  \n",
       "13                y        0  False  \n",
       "14                m        0  False  \n",
       "15                y        0  False  "
      ]
     },
     "execution_count": 14,
     "metadata": {},
     "output_type": "execute_result"
    }
   ],
   "source": [
    "# Run this cell and try to understand what's going on here\n",
    "df[\"slow\"] = df[\"rt\"] > 0.4\n",
    "df"
   ]
  },
  {
   "cell_type": "markdown",
   "metadata": {},
   "source": [
    "<div class=\"alert alert-block alert-info\">\n",
    "<b>Create columns:</b> We can create new columns by assigning a single value like this: df[\"number 4\"] = 4 or we could do what we did above which is varying the entry depending on entries in other columns: You could also read it like this: If rt is greater than 0.4, assign \"true\" to slow, else assign False.\n",
    "</div>"
   ]
  },
  {
   "cell_type": "markdown",
   "metadata": {},
   "source": [
    "### Group By\n",
    "\n",
    "If we have different groups within our data - in our case for example we have some congruent and some incongruent trials - we can use `groupby` to get some grouped summary statistics for example, like mean accuracy per group."
   ]
  },
  {
   "cell_type": "code",
   "execution_count": 16,
   "metadata": {},
   "outputs": [
    {
     "data": {
      "text/plain": [
       "congruency\n",
       "congruent      0.625\n",
       "incongruent    0.250\n",
       "Name: correct, dtype: float64"
      ]
     },
     "execution_count": 16,
     "metadata": {},
     "output_type": "execute_result"
    }
   ],
   "source": [
    "df.groupby(\"congruency\")[\"correct\"].mean()"
   ]
  },
  {
   "cell_type": "code",
   "execution_count": 16,
   "metadata": {},
   "outputs": [
    {
     "data": {
      "text/plain": [
       "congruency\n",
       "congruent      0.380330\n",
       "incongruent    0.341911\n",
       "Name: rt, dtype: float64"
      ]
     },
     "execution_count": 16,
     "metadata": {},
     "output_type": "execute_result"
    }
   ],
   "source": [
    "df.groupby(\"congruency\")[\"rt\"].mean()"
   ]
  },
  {
   "cell_type": "markdown",
   "metadata": {},
   "source": [
    "instead of computing the mean we can also use groupby to plot grouped histograms:"
   ]
  },
  {
   "cell_type": "code",
   "execution_count": 18,
   "metadata": {},
   "outputs": [
    {
     "data": {
      "text/plain": [
       "congruency\n",
       "congruent      AxesSubplot(0.125,0.125;0.775x0.755)\n",
       "incongruent    AxesSubplot(0.125,0.125;0.775x0.755)\n",
       "Name: rt, dtype: object"
      ]
     },
     "execution_count": 18,
     "metadata": {},
     "output_type": "execute_result"
    },
    {
     "data": {
      "image/png": "[encoded data removed]",
      "text/plain": [
       "<Figure size 432x288 with 1 Axes>"
      ]
     },
     "metadata": {
      "needs_background": "light"
     },
     "output_type": "display_data"
    }
   ],
   "source": [
    "df.groupby(\"congruency\")[\"rt\"].hist()"
   ]
  },
  {
   "cell_type": "markdown",
   "metadata": {},
   "source": [
    "### Visualisation with seaborn\n",
    "\n",
    "Let's also go over some data visualisation using the widely used package [seaborn](https://seaborn.pydata.org)"
   ]
  },
  {
   "cell_type": "code",
   "execution_count": 19,
   "metadata": {},
   "outputs": [],
   "source": [
    "# We first need to import seaborn \n",
    "import seaborn as sns"
   ]
  },
  {
   "cell_type": "markdown",
   "metadata": {},
   "source": [
    "Let's first look at a basic seaborn boxplot:"
   ]
  },
  {
   "cell_type": "code",
   "execution_count": 20,
   "metadata": {},
   "outputs": [
    {
     "data": {
      "text/plain": [
       "<AxesSubplot:xlabel='congruency', ylabel='rt'>"
      ]
     },
     "execution_count": 20,
     "metadata": {},
     "output_type": "execute_result"
    },
    {
     "data": {
      "image/png": "[encoded data removed]",
      "text/plain": [
       "<Figure size 432x288 with 1 Axes>"
      ]
     },
     "metadata": {
      "needs_background": "light"
     },
     "output_type": "display_data"
    }
   ],
   "source": [
    "sns.boxplot(x=\"congruency\", y=\"rt\",\n",
    "            palette=[\"orange\", \"b\"],\n",
    "            data=df)"
   ]
  },
  {
   "cell_type": "code",
   "execution_count": 21,
   "metadata": {},
   "outputs": [
    {
     "data": {
      "text/plain": [
       "<AxesSubplot:xlabel='congruency', ylabel='rt'>"
      ]
     },
     "execution_count": 21,
     "metadata": {},
     "output_type": "execute_result"
    },
    {
     "data": {
      "image/png": "[encoded data removed]",
      "text/plain": [
       "<Figure size 432x288 with 1 Axes>"
      ]
     },
     "metadata": {
      "needs_background": "light"
     },
     "output_type": "display_data"
    }
   ],
   "source": [
    "# same but barplot:\n",
    "sns.barplot(x = \"congruency\", y = \"rt\", data = df)"
   ]
  },
  {
   "cell_type": "code",
   "execution_count": 24,
   "metadata": {},
   "outputs": [
    {
     "data": {
      "text/plain": [
       "<AxesSubplot:xlabel='congruency', ylabel='rt'>"
      ]
     },
     "execution_count": 24,
     "metadata": {},
     "output_type": "execute_result"
    },
    {
     "data": {
      "image/png": "[encoded data removed]",
      "text/plain": [
       "<Figure size 432x288 with 1 Axes>"
      ]
     },
     "metadata": {
      "needs_background": "light"
     },
     "output_type": "display_data"
    }
   ],
   "source": [
    "# scatterplot:\n",
    "sns.scatterplot(x=\"congruency\", y=\"rt\", data=df)"
   ]
  },
  {
   "cell_type": "markdown",
   "metadata": {},
   "source": [
    "<div class=\"alert alert-block alert-info\">\n",
    "<b>Seaborn plots:</b> As you can see, these plots always follow a very similar structure: define what kind of plot you want (check documentation for available types), define what should be on the x-axis and what should be on the y-axis, provide name of the dataframe.\n",
    "</div>"
   ]
  },
  {
   "cell_type": "code",
   "execution_count": null,
   "metadata": {},
   "outputs": [],
   "source": []
  }
 ],
 "metadata": {
  "kernelspec": {
   "display_name": "Python 3",
   "language": "python",
   "name": "python3"
  },
  "language_info": {
   "codemirror_mode": {
    "name": "ipython",
    "version": 3
   },
   "file_extension": ".py",
   "mimetype": "text/x-python",
   "name": "python",
   "nbconvert_exporter": "python",
   "pygments_lexer": "ipython3",
   "version": "3.8.5"
  }
 },
 "nbformat": 4,
 "nbformat_minor": 4
}
