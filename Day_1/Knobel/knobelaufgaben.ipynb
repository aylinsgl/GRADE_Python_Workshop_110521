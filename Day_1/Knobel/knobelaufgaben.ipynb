{
 "cells": [
  {
   "cell_type": "markdown",
   "metadata": {
    "id": "FkW_NTqYQFHA"
   },
   "source": [
    "Run the cell below to start:"
   ]
  },
  {
   "cell_type": "code",
   "execution_count": null,
   "metadata": {
    "id": "Y8Xyk4aEQFHH"
   },
   "outputs": [],
   "source": [
    "from knobel import *"
   ]
  },
  {
   "cell_type": "markdown",
   "metadata": {
    "id": "50F5VpudD5lG"
   },
   "source": [
    "# Introduction\n",
    "\n",
    "In this notebook, you will have to transfer your freshly learnt python knowledge onto (some more some less) difficult coding challenges! The whole thing will be wrapped up in a little story, where after completing each challenge you will receive information needed for you to complete the next challenge. If you complete all the challenges you win the story! \n",
    "\n",
    "**Note**: for a lot of these it will be quite easy to cheat. Please don't, it will be more fun and useful for you if you just play along ;) You are allowed (and encouraged) to google!!!\n",
    "\n",
    "*** \n",
    "\n",
    "\n",
    "<div class=\"alert alert-block alert-warning\">\n",
    "<b>Story:</b> You wake up in your room and everything seems normal at first. \n",
    "    \n",
    "However, when you look to the left of your bed you find that your beloved Python is missing! It's not sitting in its usual spot waiting to be fed some code. You panick, as you look through your apartment for some hints where it could have disappeared to. \n",
    "\n",
    "Outside your front door you see that someone was messing with your mailbox. Unfortunately you don't remember the code to open your mailbox but you have a gut feeling that there might be valuable information about Python in that mailbox! You need to get this mailbox open...\n",
    "\n",
    "Continue with the code below to crack the mailbox open.\n",
    " "
   ]
  },
  {
   "cell_type": "markdown",
   "metadata": {
    "id": "EBYg0gZuD5lM"
   },
   "source": [
    "***\n",
    "\n",
    "\n",
    "## Open Mailbox\n",
    "\n",
    "You remember that you stored the code on your computer hidden in a list. If you remember correctly, all you need to do is compute the sum of the first, second and fourth number that is stored in `mailbox_codes`. You are not allowed to just copy the numbers and you need to index the list to retrieve the elements."
   ]
  },
  {
   "cell_type": "code",
   "execution_count": null,
   "metadata": {
    "colab": {
     "base_uri": "https://localhost:8080/",
     "height": 164
    },
    "executionInfo": {
     "elapsed": 1291,
     "status": "error",
     "timestamp": 1620498864111,
     "user": {
      "displayName": "Leah Kumle",
      "photoUrl": "",
      "userId": "10239849169647419857"
     },
     "user_tz": -120
    },
    "id": "qhnMWuRDD5lM",
    "outputId": "259fc5b0-f25b-4d59-ff84-f6e903706c88"
   },
   "outputs": [],
   "source": [
    "# run this code to display the mailbox_codes list stored on your computer\n",
    "print(mailbox_codes)"
   ]
  },
  {
   "cell_type": "code",
   "execution_count": null,
   "metadata": {
    "id": "XOhkui-cD5lN",
    "outputId": "86bea5fe-777a-46c6-8d60-53cae7f78050"
   },
   "outputs": [],
   "source": [
    "# PUT YOUR CODE BELOW\n",
    "\n",
    "\n",
    "# PUT YOUR CODE ABOVE\n",
    "result =  \n",
    "print(result)  # prints out your solution"
   ]
  },
  {
   "cell_type": "markdown",
   "metadata": {
    "id": "6Nz2NyRICqOK"
   },
   "source": [
    "To enter the code to your mailbox, run the following cell:"
   ]
  },
  {
   "cell_type": "code",
   "execution_count": null,
   "metadata": {
    "id": "wDvZsE2LD5lO",
    "outputId": "ed1ce87a-aa08-4ad7-c257-cd24b9f20eba"
   },
   "outputs": [],
   "source": [
    "challenger, helper = open_mailbox(key = result)"
   ]
  },
  {
   "cell_type": "markdown",
   "metadata": {
    "id": "hczT2z39CqOL"
   },
   "source": [
    "If your solution was correct, the mailbox opens and you find a letter and a phone inside! You read the letter above and wonder what the `challenger.submit()`- thingy is about and submit something random as a test. To do so, run the cell below:"
   ]
  },
  {
   "cell_type": "code",
   "execution_count": null,
   "metadata": {
    "id": "q71CCtYbD5lO",
    "outputId": "6cb82f99-df7c-4371-8662-b97f7944e793",
    "scrolled": true
   },
   "outputs": [],
   "source": [
    "challenger.submit(\"test\")"
   ]
  },
  {
   "cell_type": "markdown",
   "metadata": {
    "id": "WRR6jxaZhlI6"
   },
   "source": [
    "Mysterious.... just to recap what you learned so far: Python is missing and you need to complete all challenges to get it back. You also found a phone that has the following options: \n",
    "1. Submit the result of a challange by using `challenger.submit(key = ...)`\n",
    "2. Call for help using `helper.call()`. \n",
    "3. At the end of each challenge, you get some information that we need for the next challenge. \n",
    "\n",
    "\n",
    "You continue by copy pasting the list you got above and store it in the `list_1` variable below. "
   ]
  },
  {
   "cell_type": "code",
   "execution_count": null,
   "metadata": {
    "executionInfo": {
     "elapsed": 1558,
     "status": "ok",
     "timestamp": 1620744033818,
     "user": {
      "displayName": "Leah Kumle",
      "photoUrl": "",
      "userId": "10239849169647419857"
     },
     "user_tz": -120
    },
    "id": "zB_KAA-SQFHK"
   },
   "outputs": [],
   "source": [
    "list_1 =  "
   ]
  },
  {
   "cell_type": "markdown",
   "metadata": {
    "id": "UO_PgVrnQFHK"
   },
   "source": [
    "Scroll down to find the description of challenge 1!"
   ]
  },
  {
   "cell_type": "markdown",
   "metadata": {
    "id": "3PL0sd3AQFHL"
   },
   "source": [
    "<div class=\"alert alert-block alert-info\">\n",
    "<b>Tip:</b> In case the task information disappears for some reason, you can always print out the current task description using the command <code>challenger.task_info()</code>:\n",
    "</div>"
   ]
  },
  {
   "cell_type": "code",
   "execution_count": null,
   "metadata": {
    "id": "UJKkFe-iQFHL",
    "scrolled": true
   },
   "outputs": [],
   "source": [
    "# try it out:\n",
    "challenger.task_info()"
   ]
  },
  {
   "cell_type": "markdown",
   "metadata": {
    "id": "6K0blkAmD5lP"
   },
   "source": [
    "Okay.. you get to work becasue you really want your Python back!\n",
    "\n",
    "***\n",
    "***\n",
    "\n",
    "\n",
    "# Challenge 1)\n",
    "\n",
    "To complete the first challenge, reverse the list below i.e. move the first item to the last position, move the second item to the second-to-last position, and so on. \n",
    "Store your new list in the variable `list_reversed`. Again, you are not allowed to just copy the list in a reversed order. Googling is allowed. "
   ]
  },
  {
   "cell_type": "code",
   "execution_count": null,
   "metadata": {
    "colab": {
     "base_uri": "https://localhost:8080/"
    },
    "executionInfo": {
     "elapsed": 927,
     "status": "ok",
     "timestamp": 1620744048372,
     "user": {
      "displayName": "Leah Kumle",
      "photoUrl": "",
      "userId": "10239849169647419857"
     },
     "user_tz": -120
    },
    "id": "siCMvjZMD5lP",
    "outputId": "f062d5b4-e24e-430b-e3d6-c083ee998c27"
   },
   "outputs": [],
   "source": [
    "# PUT YOUR CODE BELOW\n",
    "\n",
    "\n",
    "\n",
    "\n",
    "# PUT YOUR CODE ABOVE\n",
    "\n",
    "list_reversed =  # store your solution in this variable\n",
    "\n",
    "print(list_reversed)"
   ]
  },
  {
   "cell_type": "markdown",
   "metadata": {
    "id": "0trWx33ShlI8"
   },
   "source": [
    "<div class=\"alert alert-block alert-info\">\n",
    "<b>Tip:</b> If you need help, call the anonymous helper here by running the next cell. \n",
    "</div>"
   ]
  },
  {
   "cell_type": "code",
   "execution_count": null,
   "metadata": {
    "id": "qrZWzNB0hlI8"
   },
   "outputs": [],
   "source": [
    "helper.call()"
   ]
  },
  {
   "cell_type": "markdown",
   "metadata": {
    "id": "1H7dnIugQFHM"
   },
   "source": [
    "### Submit your solution"
   ]
  },
  {
   "cell_type": "code",
   "execution_count": null,
   "metadata": {
    "id": "fo3yGE0pD5lP"
   },
   "outputs": [],
   "source": [
    "challenger.submit(key = list_reversed)"
   ]
  },
  {
   "cell_type": "code",
   "execution_count": null,
   "metadata": {
    "id": "2Hj2kfUYQFHM"
   },
   "outputs": [],
   "source": [
    "value =   # copy-paste the value you received from the challenger here\n",
    "# don't forget to run this cell!"
   ]
  },
  {
   "cell_type": "markdown",
   "metadata": {
    "id": "pI05qJNZQFHM"
   },
   "source": [
    "### Scroll down to see the description of challenge 2!"
   ]
  },
  {
   "cell_type": "markdown",
   "metadata": {
    "id": "D0XVQnP1D5lQ"
   },
   "source": [
    "***\n",
    "***\n",
    "\n",
    "# Challenge 2) Loops\n",
    "\n",
    "In this next challenge I challenge you to write a loop starting with your start value (which you should have stored in the variable `value` after completing the last challenge). For every iteration of the loop, multiply your value with 2.5\n",
    "\n",
    "You should go through 5 iterations overall."
   ]
  },
  {
   "cell_type": "code",
   "execution_count": null,
   "metadata": {
    "id": "cGmfmxYOD5lQ"
   },
   "outputs": [],
   "source": [
    "# PUT YOUR CODE BELOW\n",
    "\n",
    "\n",
    "\n",
    "# PUT YOUR CODE ABOVE\n",
    "\n",
    "print(value)  # prints your result"
   ]
  },
  {
   "cell_type": "markdown",
   "metadata": {
    "id": "_df569yehlI9"
   },
   "source": [
    "<div class=\"alert alert-block alert-info\">\n",
    "<b>Tip:</b> If you need help, call the anonymous helper here:\n",
    "</div>"
   ]
  },
  {
   "cell_type": "code",
   "execution_count": null,
   "metadata": {
    "id": "067X-1zPhlI9"
   },
   "outputs": [],
   "source": [
    "helper.call()"
   ]
  },
  {
   "cell_type": "markdown",
   "metadata": {
    "id": "PHJAMnWVQFHN"
   },
   "source": [
    "### Submit your solution"
   ]
  },
  {
   "cell_type": "code",
   "execution_count": null,
   "metadata": {
    "id": "ZFTciKpnD5lQ"
   },
   "outputs": [],
   "source": [
    "challenger.submit(key = value)"
   ]
  },
  {
   "cell_type": "code",
   "execution_count": null,
   "metadata": {
    "id": "cjERe_mkQFHN"
   },
   "outputs": [],
   "source": [
    "list_of_numbers =   # copy-paste the list you received from the challenger here\n",
    "# don't forget to run this cell"
   ]
  },
  {
   "cell_type": "markdown",
   "metadata": {
    "id": "uXVc5IduQFHO"
   },
   "source": [
    "### Scroll down to see the description of challenge 3!\n",
    "\n",
    "***\n",
    "***\n"
   ]
  },
  {
   "cell_type": "markdown",
   "metadata": {
    "id": "m467qP3AD5lQ"
   },
   "source": [
    "# Challenge 3) Loops 2.0\n",
    "\n",
    "The function `chr(n)` takes an integer `n` and returns a character (represents unicode code point of the character - no need to understand that in depth. All you need to know is that we can map integers to letters). Check out which character the integer $100$ is mapped to:"
   ]
  },
  {
   "cell_type": "code",
   "execution_count": null,
   "metadata": {
    "colab": {
     "base_uri": "https://localhost:8080/",
     "height": 35
    },
    "executionInfo": {
     "elapsed": 518,
     "status": "ok",
     "timestamp": 1620744425417,
     "user": {
      "displayName": "Leah Kumle",
      "photoUrl": "",
      "userId": "10239849169647419857"
     },
     "user_tz": -120
    },
    "id": "Wj62vg7PQFHO",
    "outputId": "7c91a04f-0d44-4472-88f0-c38c4cdc3187"
   },
   "outputs": [],
   "source": [
    "chr(56)"
   ]
  },
  {
   "cell_type": "markdown",
   "metadata": {
    "id": "Ed1VQ3puQFHP"
   },
   "source": [
    "After completing the previous challenge you should have gotten a list of numbers and assigned it to `list_of_numbers`. Your task is to translate this list into letters by using `chr()`. You should do this by creating a loop that goes through the elements of the list and adding up each translater letter to form a word. "
   ]
  },
  {
   "cell_type": "code",
   "execution_count": null,
   "metadata": {
    "id": "v8f5nnb3D5lR"
   },
   "outputs": [],
   "source": [
    "# you start with am empty word \n",
    "word=\"\"\n",
    "\n",
    "# PUT YOUR CODE BELOW\n",
    "\n",
    "\n",
    "\n",
    "\n",
    "# PUT YOUR CODE ABOVE\n",
    "\n",
    "print(word)  # prints your result"
   ]
  },
  {
   "cell_type": "markdown",
   "metadata": {
    "id": "Ad4svYGhhlI_"
   },
   "source": [
    "<div class=\"alert alert-block alert-info\">\n",
    "<b>Tip:</b> If you need help, call the anonymous helper here:\n",
    "</div>"
   ]
  },
  {
   "cell_type": "code",
   "execution_count": null,
   "metadata": {
    "id": "A7eL0M8ChlI_"
   },
   "outputs": [],
   "source": [
    "# type helper.call() to call helper"
   ]
  },
  {
   "cell_type": "markdown",
   "metadata": {
    "id": "mQA2MzKpQFHP"
   },
   "source": [
    "### Submit your solution"
   ]
  },
  {
   "cell_type": "code",
   "execution_count": null,
   "metadata": {
    "id": "hU9ryHRYD5lR"
   },
   "outputs": [],
   "source": [
    "challenger.submit(key = word)"
   ]
  },
  {
   "cell_type": "code",
   "execution_count": null,
   "metadata": {
    "id": "Tmoa_azZQFHQ"
   },
   "outputs": [],
   "source": [
    "ingredients =  # put the list of ingredients here\n",
    "# don't forget to run this cell"
   ]
  },
  {
   "cell_type": "markdown",
   "metadata": {
    "id": "lpxjKlqEQFHQ"
   },
   "source": [
    "### Scroll down to see the description of challenge 4!\n",
    "\n",
    "\n",
    "***\n",
    "***"
   ]
  },
  {
   "cell_type": "markdown",
   "metadata": {
    "id": "WDPimw2pD5lR"
   },
   "source": [
    "# Challenge 4) If statements and Loops\n",
    "\n",
    "Because Python's birthday is coming up I want you to bake it its favourite cake! The ingredients you need for it were given to you after completing the previous challenge and should be assigned to the variable `ingredients`. I made another list of what you already have at home (I've been watching you) called `have`.\n",
    "\n",
    "I need you to find out which ingredients you need to buy at the store. To achieve this, loop through the `ingredients` list and check if each item is also in the `have` list. Only add the item to the `buy` list if it is not already in the `have` list."
   ]
  },
  {
   "cell_type": "code",
   "execution_count": null,
   "metadata": {
    "id": "MGFu2S83D5lR"
   },
   "outputs": [],
   "source": [
    "have = [\"Banana\",\"Sugar\"]\n",
    "buy = []\n",
    "\n",
    "# PUT YOUR CODE BELOW\n",
    "\n",
    "\n",
    "\n",
    "\n",
    "\n",
    "# PUT YOUR CODE ABOVE\n",
    "\n",
    "print(buy)  # prints your solution"
   ]
  },
  {
   "cell_type": "markdown",
   "metadata": {
    "id": "1GQ3y99PhlJA"
   },
   "source": [
    "<div class=\"alert alert-block alert-info\">\n",
    "<b>Tip:</b> If you need help, call the anonymous helper here:\n",
    "</div>"
   ]
  },
  {
   "cell_type": "code",
   "execution_count": null,
   "metadata": {
    "id": "ylKL1NIxhlJA"
   },
   "outputs": [],
   "source": []
  },
  {
   "cell_type": "markdown",
   "metadata": {
    "id": "Jf5BYbF7QFHS"
   },
   "source": [
    "### Submit your solution"
   ]
  },
  {
   "cell_type": "code",
   "execution_count": null,
   "metadata": {
    "id": "78fdeuBHD5lS",
    "scrolled": true
   },
   "outputs": [],
   "source": [
    "challenger.submit(key = buy)"
   ]
  },
  {
   "cell_type": "code",
   "execution_count": null,
   "metadata": {
    "id": "TzL2ZZnoQFHS"
   },
   "outputs": [],
   "source": [
    "age_in_years =  # put pythons age in years here"
   ]
  },
  {
   "cell_type": "markdown",
   "metadata": {
    "id": "1KDzCiowQFHS"
   },
   "source": [
    "### Scroll down to see the description of challenge 5!"
   ]
  },
  {
   "cell_type": "markdown",
   "metadata": {
    "id": "PvLB7qUyD5lS"
   },
   "source": [
    "# Challenge 5) Write a function \n",
    "\n",
    "First of all, I can't really think in years, I need all information in days so please do me a favour and calculate Python's age in days, thanks. Oh and you can ignore leap years."
   ]
  },
  {
   "cell_type": "code",
   "execution_count": null,
   "metadata": {
    "id": "GLGsbpZDCqOx"
   },
   "outputs": [],
   "source": [
    "age_in_days =   # calculate pythons age in days (use the python (the language) as a calculator)"
   ]
  },
  {
   "cell_type": "markdown",
   "metadata": {
    "id": "_K6RrMtDCqOx"
   },
   "source": [
    "Ok, now it would be really helpful if you could write me a function that automatically calculates years to days so I don't have to ask you everytime. "
   ]
  },
  {
   "cell_type": "code",
   "execution_count": null,
   "metadata": {
    "id": "4SqulUQWD5lS"
   },
   "outputs": [],
   "source": [
    "def years_to_days(years):\n",
    "    # PUT YOUR CODE BELOW\n",
    "\n",
    "    \n",
    "    \n",
    "    \n",
    "    # PUT YOUR CODE ABOVE\n",
    "\n",
    "# -------------------------------- # \n",
    "# test your function on pythons age\n",
    "test = years_to_days(32)\n",
    "if (test == age_in_days):\n",
    "    print(\"The function yields the same result as your manual calculation. :)\")\n",
    "else:\n",
    "    print(\"The function yields a result that is different from your manual calculation.\")\n",
    "    \n",
    "# -------------------------------- #\n",
    "# assign your submission to a variable\n",
    "submission = years_to_days"
   ]
  },
  {
   "cell_type": "markdown",
   "metadata": {
    "id": "60CqEYZWhlJB"
   },
   "source": [
    "<div class=\"alert alert-block alert-info\">\n",
    "<b>Tip:</b> If you need help, call the anonymous helper here:\n",
    "</div>"
   ]
  },
  {
   "cell_type": "code",
   "execution_count": null,
   "metadata": {
    "id": "CL9CPMNehlJB",
    "scrolled": false
   },
   "outputs": [],
   "source": [
    "helper.call()"
   ]
  },
  {
   "cell_type": "markdown",
   "metadata": {
    "id": "Df4L2dpdQFHU"
   },
   "source": [
    "### Submit your solution"
   ]
  },
  {
   "cell_type": "code",
   "execution_count": null,
   "metadata": {
    "id": "pBRbsOgtD5lS",
    "scrolled": true
   },
   "outputs": [],
   "source": [
    "challenger.submit(key = submission)"
   ]
  },
  {
   "cell_type": "code",
   "execution_count": null,
   "metadata": {
    "id": "iQz8O8yBQFHU"
   },
   "outputs": [],
   "source": [
    "mysterious_code =  # put the list of symbols here"
   ]
  },
  {
   "cell_type": "markdown",
   "metadata": {
    "id": "tmvIbTBrQFHU"
   },
   "source": [
    "### Scroll down to see the description of challenge 6!\n",
    "\n",
    "***\n",
    "***"
   ]
  },
  {
   "cell_type": "markdown",
   "metadata": {
    "id": "jAjKCU-0D5lT"
   },
   "source": [
    "# Challenge 6) Crack the code\n",
    "\n",
    "As your final challenge, I have hidden your Python behind one of these doors (see image below). To find the correct door you need to crack the mysterious code you got after completing the previous task.\n",
    "\n",
    "Here are instructions on how to interpret the code:\n",
    "```\n",
    "'*'  : move one door to the right\n",
    "\n",
    "'#'  : move one door to the left\n",
    "\n",
    "'->' : move three doors to the right\n",
    "\n",
    "'<-' : move three dors to the left\n",
    "```\n",
    "\n",
    "**Important:** You start with door 0. "
   ]
  },
  {
   "cell_type": "markdown",
   "metadata": {
    "id": "ypt88Ud6D5lT"
   },
   "source": [
    "![image](doors.png)"
   ]
  },
  {
   "cell_type": "markdown",
   "metadata": {
    "id": "yR4QfERUhlJC"
   },
   "source": [
    "Your task is to programm a function, that takes the code as an input and returns the door that Python is hiding behind. Go through each symbol and solve the riddle!"
   ]
  },
  {
   "cell_type": "code",
   "execution_count": null,
   "metadata": {
    "id": "ov9UXMO_D5lT"
   },
   "outputs": [],
   "source": [
    "def find_door(code):\n",
    "    \n",
    "    current_door=0\n",
    "    \n",
    "    # PUT YOUR CODE BELOW\n",
    "    \n",
    "    \n",
    "    \n",
    "    \n",
    "\n",
    "    # PUT YOUR CODE ABOVE\n",
    "    \n",
    "    return current_door\n",
    "\n",
    "\n",
    "solution = find_door(mysterious_code)\n",
    "print(solution)  # prints out your solution"
   ]
  },
  {
   "cell_type": "markdown",
   "metadata": {
    "id": "mtu9CQupQFHV"
   },
   "source": [
    "<div class=\"alert alert-block alert-info\">\n",
    "<b>Tip:</b> If you need help, call the anonymous helper here:\n",
    "</div>"
   ]
  },
  {
   "cell_type": "code",
   "execution_count": null,
   "metadata": {
    "id": "DxnJgF75QFHV",
    "scrolled": true
   },
   "outputs": [],
   "source": []
  },
  {
   "cell_type": "markdown",
   "metadata": {
    "id": "gFRgNIXWCqPC"
   },
   "source": [
    "### Submit your solution"
   ]
  },
  {
   "cell_type": "code",
   "execution_count": null,
   "metadata": {
    "id": "p2dmmQsFhlJD"
   },
   "outputs": [],
   "source": [
    "challenger.submit(solution)"
   ]
  }
 ],
 "metadata": {
  "colab": {
   "collapsed_sections": [],
   "name": "knobelaufgaben.ipynb",
   "provenance": [],
   "toc_visible": true
  },
  "kernelspec": {
   "display_name": "Python 3",
   "language": "python",
   "name": "python3"
  },
  "language_info": {
   "codemirror_mode": {
    "name": "ipython",
    "version": 3
   },
   "file_extension": ".py",
   "mimetype": "text/x-python",
   "name": "python",
   "nbconvert_exporter": "python",
   "pygments_lexer": "ipython3",
   "version": "3.8.5"
  }
 },
 "nbformat": 4,
 "nbformat_minor": 1
}
