{
 "cells": [
  {
   "cell_type": "markdown",
   "metadata": {
    "id": "ag55gjABAaT_"
   },
   "source": [
    "# INTRODUCTION TO PYTHON\n",
    "\n",
    " GRADE brain workshop, Ma 11-12th 2021 \n",
    "\n",
    "\n",
    "Authors: Aylin Kallmayer, Melvin Kallmayer, Leah Kumle\n",
    "\n",
    "\n",
    "***\n",
    "Unfortunately, the pandemic requieres this workshop to be online. The thing about zoom: It is very hard to get to know the other people. Everyone is just in their little box on the screen and we can't all get lunch together and chat about unrelated things. Let's make the best out of it and try to get to know each other a little bit... in the most COVID safe way possible. Using python! No aerosoles-evoking talking necessary, everyone can do it from their laptop!\n",
    "\n",
    "Go through the sections of the following notebook. We will get to know the basics of python and use it to gather some insight about us as a group. Each time you encounter a `Stop: come back to the main room`- box, please stop working on the notebook. We will have some more theory input before continuing with the next hands-on part. \n",
    "\n",
    "Feel free to add new cells at any point to play around with concepts to get a better grasp on them! (See blue box for a reminder  of how to add cells)\n",
    "\n",
    "In case you are running into problems while working on the notebook, follow the following sequence of steps: \n",
    " \n",
    "<div class=\"alert alert-block alert-warning\">\n",
    "    \n",
    "    \n",
    "**1. Google your problem** - maybe someone else had the same problem before you.   \n",
    "\n",
    "**2. Ask your group members** and try to solve it together.   \n",
    "\n",
    "**3. Ask one of the instructors.**  \n",
    "</div>\n",
    "\n",
    "<div class=\"alert alert-block alert-info\">\n",
    "<b>Notebook Key-Shortcuts:</b> \n",
    "    <p>Esc + B = Add cell below</p>\n",
    "    <p>Esc + A = Add cell above</p>\n",
    "    <p>Esc + X = Delete cell</p>\n",
    "    <p>Strg or Shift + Enter = Run cell</p>\n",
    "</div>"
   ]
  },
  {
   "cell_type": "markdown",
   "metadata": {
    "id": "1zFm9XqwAaUG"
   },
   "source": [
    "***\n",
    "  \n",
    "\n",
    "## Part 1: Variables, Types, Lists, Operators\n",
    "\n",
    "We will start with the very basics. You will see that with each section you complete, you can gather more detailed insight of our group."
   ]
  },
  {
   "cell_type": "markdown",
   "metadata": {
    "id": "Q3B9Phu0AaUH"
   },
   "source": [
    "#### A) Using Python as a calculator\n",
    "Try converting the following expression into something that Python can understand: Your result should be ~`1353.362985`\n",
    "![image](example2.png)\n",
    "\n"
   ]
  },
  {
   "cell_type": "code",
   "execution_count": 1,
   "metadata": {
    "id": "RdLgUxXRAaUH"
   },
   "outputs": [
    {
     "data": {
      "text/plain": [
       "1353.3629849999998"
      ]
     },
     "execution_count": 1,
     "metadata": {},
     "output_type": "execute_result"
    }
   ],
   "source": [
    "# enter equation here\n",
    "3*(2+1.9)**5/2"
   ]
  },
  {
   "cell_type": "markdown",
   "metadata": {
    "id": "aYWaVWRaAaUI"
   },
   "source": [
    "<div class=\"alert alert-block alert-warning\">\n",
    "<b>Comments:</b> Have you noticed the text following the '#' sign? That is called a comment. Comments are invisible to Python and we use them to make notes for ourselves that make it easier to understand the code. \n",
    "    \n",
    "It is good practice to ALWAYS comment your code. Trust me, you will regret it later if you don't.\n",
    "</div>\n",
    "\n",
    "\n",
    "#### B) Assign your first variables\n",
    "\n",
    "Store your age (as a numerical variable) and your name (as a string). \n",
    "\n",
    "<div class=\"alert alert-block alert-info\">\n",
    "<b>Useful:</b> You can always use the 'print()' function to get Pythom to return a variable.\n",
    "</div>"
   ]
  },
  {
   "cell_type": "code",
   "execution_count": 2,
   "metadata": {
    "id": "JwzgjlejAaUI"
   },
   "outputs": [
    {
     "name": "stdout",
     "output_type": "stream",
     "text": [
      "Python\n",
      "32\n"
     ]
    }
   ],
   "source": [
    "my_name =  \"Python\"\n",
    "my_age = 32\n",
    "\n",
    "print(my_name)\n",
    "print(my_age)"
   ]
  },
  {
   "cell_type": "markdown",
   "metadata": {
    "id": "auWZVPd8AaUJ"
   },
   "source": [
    "#### C) Lists\n",
    "\n",
    "Below we already prepared a list with the names of the instructors of this workshop.   \n",
    "Create a second list called `ages` and store our ages in it (23, 24, 25) and print that list. "
   ]
  },
  {
   "cell_type": "code",
   "execution_count": 3,
   "metadata": {
    "id": "R9tfoyx9AaUJ"
   },
   "outputs": [
    {
     "name": "stdout",
     "output_type": "stream",
     "text": [
      "['Melvin', 'Aylin', 'Leah']\n",
      "[23, 24, 25]\n"
     ]
    }
   ],
   "source": [
    "# list with names\n",
    "names = [\"Melvin\", \"Aylin\", \"Leah\"]\n",
    "\n",
    "# TO-DO: create list with our ages\n",
    "ages = [23,24,25]\n",
    "\n",
    "print(names)\n",
    "print(ages)"
   ]
  },
  {
   "cell_type": "markdown",
   "metadata": {
    "id": "I7ERXG5kAaUJ"
   },
   "source": [
    "Fantastic! Try retrieving the first element (Melvin's age) of the `ages` list using indexing.\n",
    "<div class=\"alert alert-block alert-info\">\n",
    "<b>Reminder:</b> Python starts counting at zero!\n",
    "</div>"
   ]
  },
  {
   "cell_type": "code",
   "execution_count": 4,
   "metadata": {
    "id": "wTdIrfzHAaUJ"
   },
   "outputs": [
    {
     "data": {
      "text/plain": [
       "23"
      ]
     },
     "execution_count": 4,
     "metadata": {},
     "output_type": "execute_result"
    }
   ],
   "source": [
    "# index first element of ages list\n",
    "ages[0]"
   ]
  },
  {
   "cell_type": "markdown",
   "metadata": {
    "id": "zie7NwQ6AaUK"
   },
   "source": [
    "Also try and retrieve the second element (Aylin's age). Compute how old Aylin and Melvin are combined using the indexed list."
   ]
  },
  {
   "cell_type": "code",
   "execution_count": 5,
   "metadata": {
    "id": "4H5Lls1eAaUK"
   },
   "outputs": [
    {
     "data": {
      "text/plain": [
       "47"
      ]
     },
     "execution_count": 5,
     "metadata": {},
     "output_type": "execute_result"
    }
   ],
   "source": [
    "# index first and second element of list and add them together\n",
    "ages[0] + ages [1]\n"
   ]
  },
  {
   "cell_type": "markdown",
   "metadata": {
    "id": "Ej7GEbjnAaUK"
   },
   "source": [
    "Lists are very convinient and allow us to do a multitude of things. They have a range of functionalities and inbuilt 'helper'-functions attached to them. For example, we can add values to a list using the `append()`option.\n",
    "\n",
    "Add your name and age to the `names`and `ages`list! "
   ]
  },
  {
   "cell_type": "code",
   "execution_count": 6,
   "metadata": {
    "id": "QpGCEClFAaUK",
    "outputId": "95ee434d-6a24-422f-9cfd-dab9e4656108"
   },
   "outputs": [
    {
     "name": "stdout",
     "output_type": "stream",
     "text": [
      "['Melvin', 'Aylin', 'Leah', 'Python']\n",
      "[23, 24, 25, 32]\n"
     ]
    }
   ],
   "source": [
    "# add your name to the names function \n",
    "# Reminder: You already assigned your name to a variable. Provide the append function with this variable. \n",
    "names.append(my_name)\n",
    "\n",
    "# repeat with ages list: \n",
    "ages.append(my_age)\n",
    "\n",
    "\n",
    "\n",
    "# Let's have a look at the result\n",
    "print(names)\n",
    "print(ages)"
   ]
  },
  {
   "cell_type": "markdown",
   "metadata": {
    "id": "FSCbAgp7AaUL"
   },
   "source": [
    "What happens if you try to combine the `ages`and `names` list into one large list? Store the result in a new variable called `long_list`."
   ]
  },
  {
   "cell_type": "code",
   "execution_count": 7,
   "metadata": {
    "id": "_I9iSNTvAaUL"
   },
   "outputs": [
    {
     "name": "stdout",
     "output_type": "stream",
     "text": [
      "[23, 24, 25, 32, 'Melvin', 'Aylin', 'Leah', 'Python']\n"
     ]
    }
   ],
   "source": [
    "# combine 'ages' and 'names'. Can you just add them together using '+'?\n",
    "long_list = ages + names\n",
    "\n",
    "\n",
    "print(long_list)"
   ]
  },
  {
   "cell_type": "markdown",
   "metadata": {
    "id": "FSp5mgTiAaUM"
   },
   "source": [
    "Index the `long_list` and retrieve element 3 to 5."
   ]
  },
  {
   "cell_type": "code",
   "execution_count": 9,
   "metadata": {
    "id": "p_l1j6lsAaUM"
   },
   "outputs": [
    {
     "data": {
      "text/plain": [
       "[25, 32, 'Melvin']"
      ]
     },
     "execution_count": 9,
     "metadata": {},
     "output_type": "execute_result"
    }
   ],
   "source": [
    "# get 3rd to 5th element from long_list\n",
    "long_list[2:5]"
   ]
  },
  {
   "cell_type": "markdown",
   "metadata": {
    "id": "2dsmPYShAaUM"
   },
   "source": [
    "#### D) Comparison Operators\n",
    "Let's quickly ask Python some questions! We will start with asking Python what number is bigger: 3 times 4.5 or 2.1 times 5.2? \n"
   ]
  },
  {
   "cell_type": "code",
   "execution_count": 10,
   "metadata": {
    "id": "UFFjY5xhAaUN",
    "outputId": "b3e3fdf7-147b-4a71-e036-0d872dadc0d0"
   },
   "outputs": [
    {
     "data": {
      "text/plain": [
       "True"
      ]
     },
     "execution_count": 10,
     "metadata": {},
     "output_type": "execute_result"
    }
   ],
   "source": [
    "# ask python if 3*4.5 or 2.1*5.2 is bigger\n",
    "3*4.5 > 2.1*5.2 # --> the first one is bigger"
   ]
  },
  {
   "cell_type": "markdown",
   "metadata": {
    "id": "KxREdnPgAaUN"
   },
   "source": [
    "After that ask Python which word has more letters: Your name or the word \"Python\"? We are using a function called `len()`. We will talk more about functions later... for now: `len()` can give us the length of a given string (i.e. how many letters are in there?)"
   ]
  },
  {
   "cell_type": "code",
   "execution_count": 11,
   "metadata": {
    "id": "UTUo2G27AaUN"
   },
   "outputs": [
    {
     "data": {
      "text/plain": [
       "False"
      ]
     },
     "execution_count": 11,
     "metadata": {},
     "output_type": "execute_result"
    }
   ],
   "source": [
    "# which word has more letters? \n",
    "# TODO: which operator do you need to use? Also enter the right string in the right hand side. \n",
    "len(my_name) > len(\"Python\")"
   ]
  },
  {
   "cell_type": "markdown",
   "metadata": {
    "id": "EQLMWR-oAaUN"
   },
   "source": [
    "We aleady saw the oprational operators `==`. `!=`, `<`, `>`, `<=` and `>=`. Python knows some more key words that we can use to ask it questions. Have a look at the examples below and complete the code.\n",
    "\n",
    "\n",
    "We will start with asking Python if your name is in the `names` list from above... just to be sure. What happens if you change `in` to `not in`? \n"
   ]
  },
  {
   "cell_type": "code",
   "execution_count": 12,
   "metadata": {
    "id": "C9o1q96lAaUO"
   },
   "outputs": [
    {
     "data": {
      "text/plain": [
       "True"
      ]
     },
     "execution_count": 12,
     "metadata": {},
     "output_type": "execute_result"
    }
   ],
   "source": [
    "# check if your name is in names list\n",
    "my_name in names"
   ]
  },
  {
   "cell_type": "markdown",
   "metadata": {
    "id": "P_yIt_SGAaUO"
   },
   "source": [
    "#### E) Other Types of Variables\n",
    "\n",
    "So far we learned about numerical variables, strings and lists. However, Python has a few more variable types that are good and useful to know and we can also convert one type into another. First, you can always check the type of a variable by using the `type`-function. Check out the ode below to first learn some more about numerical variables."
   ]
  },
  {
   "cell_type": "code",
   "execution_count": 13,
   "metadata": {
    "id": "LNeTIPhRAaUO"
   },
   "outputs": [
    {
     "data": {
      "text/plain": [
       "int"
      ]
     },
     "execution_count": 13,
     "metadata": {},
     "output_type": "execute_result"
    }
   ],
   "source": [
    "# numerical variable no 1\n",
    "integer_variable = 42\n",
    "type(integer_variable)"
   ]
  },
  {
   "cell_type": "code",
   "execution_count": 14,
   "metadata": {
    "id": "33TOdGzkAaUO"
   },
   "outputs": [
    {
     "data": {
      "text/plain": [
       "float"
      ]
     },
     "execution_count": 14,
     "metadata": {},
     "output_type": "execute_result"
    }
   ],
   "source": [
    "# numerical variable no 2\n",
    "float_variable = 42.42\n",
    "type(float_variable)"
   ]
  },
  {
   "cell_type": "markdown",
   "metadata": {
    "id": "jVNhhoq7AaUO"
   },
   "source": [
    "Numerical variables are further divided in the types integer (int) and float! Next, we will have a look at how to convert types. This can be very useful, because each type has different functionalities attached to them. Depending on waht we want to do with a variable, it might be a good idea to convert it to another type!  \n",
    "\n",
    "\n",
    "Thankfully, Python is very flexible when it comes to types. Complete the code below. \n",
    "1. Check the type of the `string_number` variable. \n",
    "2. Convert the `string_number` variable to integer. \n",
    "\n"
   ]
  },
  {
   "cell_type": "code",
   "execution_count": 15,
   "metadata": {
    "id": "pfqyo8O9AaUP"
   },
   "outputs": [
    {
     "name": "stdout",
     "output_type": "stream",
     "text": [
      "<class 'str'>\n",
      "<class 'int'>\n"
     ]
    }
   ],
   "source": [
    "# assign string_variable\n",
    "string_variable = \"42\"\n",
    "\n",
    "# check type of variable\n",
    "print(type(string_variable))\n",
    "\n",
    "# convert to integer: \n",
    "integer_variable = int(string_variable)\n",
    "\n",
    "# check type of variable\n",
    "print(type(integer_variable))\n"
   ]
  },
  {
   "cell_type": "markdown",
   "metadata": {
    "id": "91ZHcLEeAaUP"
   },
   "source": [
    "Finally, there are some other variable types that we won't go into detail today. Just so you have heard of them: \n",
    "\n",
    "**1. Tupels:** Tupels are very similar to lists. We use () instead of [] and Tupels are **read_only** meaning that we can't update them after we created them.\n",
    "\n",
    "**2: Dictionaries:** Dictionaries allow to store a lot of information in one variable. But we won't bother about them today. \n",
    "\n",
    "In case you want to read more about data types and type conversion, check out this useful [tutorial](https://www.tutorialspoint.com/python/python_variable_types.htm)."
   ]
  },
  {
   "cell_type": "markdown",
   "metadata": {
    "id": "anGSZ2yFAaUP"
   },
   "source": [
    "<div class=\"alert alert-block alert-danger\">\n",
    "<b>STOP:</b> Come back to the main zoom room!\n",
    "</div>"
   ]
  },
  {
   "cell_type": "markdown",
   "metadata": {
    "id": "bBepDRmuAaUP"
   },
   "source": [
    "***\n",
    "***  \n",
    "\n",
    "## Part 2: Loops \n",
    "\n",
    "Now that we know some Python basics, let's put it into action and actually learn something about our group! We asked you to answer a few questions in the questionaire leading up to this workshop. We will now use python to look at your answers. \n",
    "\n",
    "The first thing we want to use for that are loops. Reminder: Loops are used to repeat a block of code multiple times. Loops can be confusing in the beginning so we will start with the basics.\n",
    "\n",
    "\n",
    "***\n",
    "\n",
    "#### A) For-Loops\n",
    "\n",
    "We will start with for-loops. Remember: We use this loop if we already know how many times we want to repeat the code block inside the loop. \n",
    "\n",
    "Let's start with having a closer look at the code example below. Your job is to simply try to understand what is happening. \n",
    "\n",
    "<div class=\"alert alert-block alert-warning\">\n",
    "<b>Important:</b> We specify which code should be executed <b> inside </b> the loop by using intendation.\n",
    "</div>\n"
   ]
  },
  {
   "cell_type": "code",
   "execution_count": 16,
   "metadata": {
    "id": "Kb-er48eAaUQ"
   },
   "outputs": [
    {
     "name": "stdout",
     "output_type": "stream",
     "text": [
      "0\n",
      "1\n",
      "2\n"
     ]
    }
   ],
   "source": [
    "# range(3) means we repeat the loop 3 time!\n",
    "for counter in range(3):\n",
    "    \n",
    "    # First, let's only look at the value counter takes during the loop\n",
    "    print(counter)"
   ]
  },
  {
   "cell_type": "markdown",
   "metadata": {
    "id": "gSJCRKODAaUQ"
   },
   "source": [
    "As expected, Python prints 3 values - each comes from one repetition of the loop. During the first repetition, `counter` = 0, during the second repetition `counter`= 1 and in the third repetition `couter` = 2. Python starts counting from 0 - also in loops! \n",
    "\n",
    "<div class=\"alert alert-block alert-warning\">\n",
    "<b>Important:</b> We don't have to name the loop iterator 'counter'. It is a variable and we can call it whatever we want!\n",
    "</div>\n",
    "\n",
    "Let's see what we can do with the `counter` variable! Below you can find a list with the names of all people participating in this workshop (XY in total). Let's assume we want Python to say \"Hello\" to each participant. We can wrap that in a loop to avoid repetition. We provided the general structure of the code.\n",
    "\n",
    "Can you figure out how to index the `names` list inside the loop to say \"Hello\" to each participant?\n",
    "\n",
    "Tip: In the first repetition you want to retrieve the first element in `names`, in the second repetition you want to retrieve the second element and so on!"
   ]
  },
  {
   "cell_type": "code",
   "execution_count": 17,
   "metadata": {
    "id": "fjd2QBawAaUQ"
   },
   "outputs": [
    {
     "name": "stdout",
     "output_type": "stream",
     "text": [
      "Hello Maggie!\n",
      "Hello Nisa!\n",
      "Hello Franzi!\n",
      "Hello Vanessa!\n",
      "Hello Alexandra!\n",
      "Hello Finn!\n",
      "Hello Isabel!\n",
      "Hello Jahangir!\n",
      "Hello Leah!\n",
      "Hello Aylin!\n",
      "Hello Melvin!\n",
      "Hello Python!\n"
     ]
    }
   ],
   "source": [
    "# add your name if it's not in here already!\n",
    "names = [\"Maggie\", \"Nisa\", \"Franzi\", \"Vanessa\", \"Alexandra\", \"Finn\", \"Isabel\", \"Jahangir\", \"Leah\", \"Aylin\", \"Melvin\", \"Python\"]\n",
    "\n",
    "\n",
    "\n",
    "# loop through all participants (20 in total)\n",
    "for participant in range(12): \n",
    "    \n",
    "    ## TO-DO: index the names list inside this loop\n",
    "    name = names[participant]\n",
    "    \n",
    "    print(\"Hello \"+ name + \"!\")\n",
    "\n"
   ]
  },
  {
   "cell_type": "markdown",
   "metadata": {
    "id": "uqbniQ4VAaUQ"
   },
   "source": [
    "Instead of indexing our `names` list inside of the loop, we can also loop **through** the list directly. Let's see what that would look like! Which value does the `participant` variable take inside of the loop? Do you see the difference to the loop above?\n"
   ]
  },
  {
   "cell_type": "code",
   "execution_count": 18,
   "metadata": {
    "id": "0aiffTSbAaUR"
   },
   "outputs": [
    {
     "name": "stdout",
     "output_type": "stream",
     "text": [
      "Maggie\n",
      "Nisa\n",
      "Franzi\n",
      "Vanessa\n",
      "Alexandra\n",
      "Finn\n",
      "Isabel\n",
      "Jahangir\n",
      "Leah\n",
      "Aylin\n",
      "Melvin\n",
      "Python\n"
     ]
    }
   ],
   "source": [
    "# loop through list \n",
    "for participant in names: \n",
    "    \n",
    "    print(participant)"
   ]
  },
  {
   "cell_type": "markdown",
   "metadata": {
    "id": "J2ZirNMjAaUR"
   },
   "source": [
    "This soultion is much more convinient! We don't need to know how many participants there are in total and we also don't need to index the original list.\n",
    "\n",
    "\n",
    "\n",
    "Okay ... Let's see how old we are all combined! We provided a list with the age of all of us. We will loop through this list and add up our ages. For doing so, we need an aditional variable that can store the (temporary) result, which we wish to update in each iteration of the loop. \n",
    "\n",
    "<div class=\"alert alert-block alert-info\">\n",
    "<b>Tip:</b> If you want to update the value of an existing variable, you need to re-assign the result to the existing variable. \n",
    "                                        For example: x = x + 1 \n",
    "</div>"
   ]
  },
  {
   "cell_type": "code",
   "execution_count": 19,
   "metadata": {
    "id": "d4xm92dzAaUR",
    "outputId": "292ac3c5-d70a-4cc9-e0d0-c176fa08a55c"
   },
   "outputs": [
    {
     "name": "stdout",
     "output_type": "stream",
     "text": [
      "Together, we are 304 years old!\n"
     ]
    }
   ],
   "source": [
    "# list with ages of all participants\n",
    "participant_ages = [24,23,25,24,27,28,29,29,30,32,33]\n",
    "\n",
    "# variable to store (temporary) result. Set to zero because we want to start counting at 0!\n",
    "age_combined = 0\n",
    "\n",
    "# TO-DO: loop through participant_ages list: \n",
    "for age in participant_ages:\n",
    "    \n",
    "    # TO-DO: in each repetition of the loop, add the age of the current participant\n",
    "    #        to the age_combined variable\n",
    "    age_combined = age_combined + age\n",
    "\n",
    "\n",
    "# print the result: See how we are using type conversion to inegrate the age_combined variable in our string?\n",
    "print(\"Together, we are \" + str(age_combined) + \" years old!\")"
   ]
  },
  {
   "cell_type": "markdown",
   "metadata": {
    "id": "JSDuHn1cAaUR"
   },
   "source": [
    "Next, let's assume we want to transform the `names` list in a way that it only contains uppercase letters. So Python would become PYTHON. We want to do that by building up a new `uppercase_names`list inside of a for-loop. \n",
    "Strings have a handy function called `upper()`, which we can use to transform them to uppercase letters. However, we first need to retrieve each name from the `names` list, then transform it using `upper` and finally store it in the `uppercase_names`list. To do so, complete the code below. "
   ]
  },
  {
   "cell_type": "code",
   "execution_count": 21,
   "metadata": {
    "id": "48oSVpI6AaUS"
   },
   "outputs": [
    {
     "name": "stdout",
     "output_type": "stream",
     "text": [
      "['MAGGIE']\n",
      "['MAGGIE', 'NISA']\n",
      "['MAGGIE', 'NISA', 'FRANZI']\n",
      "['MAGGIE', 'NISA', 'FRANZI', 'VANESSA']\n",
      "['MAGGIE', 'NISA', 'FRANZI', 'VANESSA', 'ALEXANDRA']\n",
      "['MAGGIE', 'NISA', 'FRANZI', 'VANESSA', 'ALEXANDRA', 'FINN']\n",
      "['MAGGIE', 'NISA', 'FRANZI', 'VANESSA', 'ALEXANDRA', 'FINN', 'ISABEL']\n",
      "['MAGGIE', 'NISA', 'FRANZI', 'VANESSA', 'ALEXANDRA', 'FINN', 'ISABEL', 'JAHANGIR']\n",
      "['MAGGIE', 'NISA', 'FRANZI', 'VANESSA', 'ALEXANDRA', 'FINN', 'ISABEL', 'JAHANGIR', 'LEAH']\n",
      "['MAGGIE', 'NISA', 'FRANZI', 'VANESSA', 'ALEXANDRA', 'FINN', 'ISABEL', 'JAHANGIR', 'LEAH', 'AYLIN']\n",
      "['MAGGIE', 'NISA', 'FRANZI', 'VANESSA', 'ALEXANDRA', 'FINN', 'ISABEL', 'JAHANGIR', 'LEAH', 'AYLIN', 'MELVIN']\n",
      "['MAGGIE', 'NISA', 'FRANZI', 'VANESSA', 'ALEXANDRA', 'FINN', 'ISABEL', 'JAHANGIR', 'LEAH', 'AYLIN', 'MELVIN', 'PYTHON']\n"
     ]
    }
   ],
   "source": [
    "# Create empty list that we will fill up inside the loop\n",
    "uppercase_names = []\n",
    "\n",
    "# 1: TO-DO: Loop through names list: \n",
    "for name in names : \n",
    "    \n",
    "    # 2: transform each name to uppercase letters using upper(...)\n",
    "    transformed_name = name.upper()\n",
    "    \n",
    "    # 3: add transformed name to upper_case names.\n",
    "    # TIP: Remember how you added your name to the list in Part I of this notebook?\n",
    "    uppercase_names.append(transformed_name)\n",
    "    \n",
    "    # print list to see it growing: \n",
    "    print(uppercase_names)\n",
    "    \n",
    "    "
   ]
  },
  {
   "cell_type": "markdown",
   "metadata": {
    "id": "Ye6WpBswAaUS"
   },
   "source": [
    "#### B) while-loops\n",
    "\n",
    "Let's also have a look at while loops. While loops can be useful but also dangerous! They repeat as long as the condition at the start of the loop equals `true`. So after each time Python executed the code inside the loop, it checks the condition at the head of the loop to determine if it should run the code again or move on. If we never tell Python to stop (i.e. update the condition), Python will be stuck in this loop **forever**! \n",
    "\n",
    "<div class=\"alert alert-block alert-warning\">\n",
    "<b>Important:</b> Always include a rule/update that stops the while loop!\n",
    "</div>\n",
    "\n",
    "Let's assume we want to use a while loop to say hello to the first five participants. We included the basic scaffolding to do so below. Can you figure out how to include a statement that will stop the loop after 5 repetitions?"
   ]
  },
  {
   "cell_type": "code",
   "execution_count": 23,
   "metadata": {
    "id": "hMHFVqYWAaUS"
   },
   "outputs": [
    {
     "name": "stdout",
     "output_type": "stream",
     "text": [
      "Hello Maggie!\n",
      "Hello Nisa!\n",
      "Hello Franzi!\n",
      "Hello Vanessa!\n",
      "Hello Alexandra!\n"
     ]
    }
   ],
   "source": [
    "# variable counting repetitions of loop\n",
    "count = 0\n",
    "\n",
    "# for clarity: here is the names list again: \n",
    "names = [\"Maggie\", \"Nisa\", \"Franzi\", \"Vanessa\", \"Alexandra\", \"Finn\", \"Isabel\", \"Jahangir\", \"Leah\", \"Aylin\", \"Melvin\", \"Python\"]\n",
    "\n",
    "# while loop: We want to \n",
    "while(count < 5):\n",
    "    \n",
    "    # index list to get one name after another\n",
    "    name = names[count]\n",
    "    \n",
    "    #TO-DO: include statement that updates the count variable\n",
    "    count = count +1\n",
    "    \n",
    "    # say hello!\n",
    "    print(\"Hello \" + name + \"!\")\n"
   ]
  },
  {
   "cell_type": "markdown",
   "metadata": {
    "id": "SCnPSVmfAaUS"
   },
   "source": [
    "**Tip:** Have a look at the while-loop condition (`count < 5`). What has to happen to the `count` variable in order for the loop to stop?"
   ]
  },
  {
   "cell_type": "markdown",
   "metadata": {
    "id": "cSjVLVtTAaUS"
   },
   "source": [
    "<div class=\"alert alert-block alert-danger\">\n",
    "<b>STOP:</b> Come back to the main zoom room!\n",
    "</div>\n",
    "\n",
    "***\n",
    "***\n",
    "\n",
    "\n",
    "## Part 3: Flow control\n",
    "\n",
    "Now that we've already learned about loops, we will see that they can be much more powerful if we are able to combine them with `if-statements`! But first, let's start with looking at the general structure of if-statements. \n",
    "Python comes with three options regarding if-statements, that we can combine to make the most out of our flow control. \n",
    "\n",
    "1. It always starts with an `if`-statement. \n",
    "2. Optionally, we can add an `elif`-statement. This statement is only evaluated if the if-statement does not apply. \n",
    "3. Finally, we can add an `else`-statement. This statement is evaluated if **none** of the preceeding if- or elif-stamenets apply. \n",
    "\n",
    "Let's see what that looks like in code: We included an `if-elif-else` statement below, where Python checks if a name contains a certain letter. Can you come up with **three different names** that result in Python printing the three different messages?\n",
    "\n",
    "<div class=\"alert alert-block alert-info\">\n",
    "<b>Reminder:</b> Python only looks at the <b>elif</b> and <b>else</b> statement if none of the preceeding statements evaluated to true. \n",
    "</div>\n"
   ]
  },
  {
   "cell_type": "code",
   "execution_count": 28,
   "metadata": {
    "id": "SXqYNqvJAaUS",
    "outputId": "d9287864-8cbb-46bf-e6fb-432a3df03630"
   },
   "outputs": [
    {
     "name": "stdout",
     "output_type": "stream",
     "text": [
      "Good Job! You managed to unlock the third message.\n"
     ]
    }
   ],
   "source": [
    "# enter names here: (please only use lowercase letters)\n",
    "#name = \"aylin\" # unlocks first messgae\n",
    "#name = \"nir\" # unlocks second message\n",
    "name = \"steve\" # unlocks third message\n",
    "\n",
    "# check if name contains the letter a\n",
    "if \"a\" in name: \n",
    "    print(\"Cool! You managed to unlock the first message.\")\n",
    "    \n",
    "# if name does not contain an a: check if name contains an n\n",
    "elif \"n\" in name: \n",
    "    \n",
    "    print(\"Great! You managed to unlock the second message.\")\n",
    "# all other cases: \n",
    "else: \n",
    "    print(\"Good Job! You managed to unlock the third message.\")\n",
    "    "
   ]
  },
  {
   "cell_type": "markdown",
   "metadata": {
    "id": "xqTW0aMdAaUT"
   },
   "source": [
    "What happens if you enter the name \"anton\" and change the `elif`-statement to an `if`-statement? Why is this happening?\n",
    "\n",
    "***\n",
    "\n",
    "Next, let's find out how many participants were born in the same month as you! To do so, we will use a for loop and an if statement. We will loop through a list containing the birthmonths. Inside the loop, we will use an if-statement to check if it is the same months as yours. \n",
    "\n",
    "<div class=\"alert alert-block alert-info\">\n",
    "<b>Tip:</b> In the if-elif statements, we need to ask Python a question! Remember: We can do that with comparison operators (e.g. ==, !=, <, >). \n",
    "</div>"
   ]
  },
  {
   "cell_type": "code",
   "execution_count": 29,
   "metadata": {
    "id": "31rcRnwcAaUT"
   },
   "outputs": [
    {
     "name": "stdout",
     "output_type": "stream",
     "text": [
      "1 people were also born in March\n"
     ]
    }
   ],
   "source": [
    "# enter your month of birth: \n",
    "my_birthmonth = \"March\"\n",
    "\n",
    "# list with all birth months \n",
    "months = [\"February\", \"March\", \"April\", \"February\", \"June\", \"October\", \"October\", \"February\", \"May\", \"April\"]\n",
    "\n",
    "# variable counting how many people are born in the same month as you: \n",
    "count = 0\n",
    "\n",
    "# 1: TO-DO: include the for loop that loops through the suburb list: \n",
    "for month in months: \n",
    "    \n",
    "    # 2: TO-DO: include an if-statement that checks if the current element of the list equals your birth mojth\n",
    "    if month == my_birthmonth : \n",
    "        \n",
    "        # 3: TO-DO: update the count variable (add 1 to it)\n",
    "        count = count + 1\n",
    "\n",
    "\n",
    "        \n",
    "print(str(count) + \" people were also born in \" + my_birthmonth)"
   ]
  },
  {
   "cell_type": "markdown",
   "metadata": {
    "id": "nlica47uAaUT"
   },
   "source": [
    "***\n",
    "Maybe one of the other participants lives in the same suburb as you? Let's find out.. maybe you can even meet for a COVID-safe walk around your neighborhood afterwards! \n",
    "\n",
    "We will again use a for-loop to loop through your suburbs. However, at the same time, we want to know the corresponding name... otherwise it is difficult to arrange to meet. Below you can see two lists: One with all the suburbs, one with your names. We arranged them in the same order, so the first name corresponds to the first suburb.  Now we just need a way to loop through them at the same time!\n",
    "\n",
    "<div class=\"alert alert-block alert-info\">\n",
    "<b>Useful:</b> We can zip lists together using the zip() function! This way, we can loop through them at the same time.\n",
    "</div>\n",
    "\n",
    "Complete the code block to know to find out who lives near you!\n"
   ]
  },
  {
   "cell_type": "code",
   "execution_count": 30,
   "metadata": {
    "id": "3LoTf3g6AaUT"
   },
   "outputs": [
    {
     "name": "stdout",
     "output_type": "stream",
     "text": [
      "Franzi lives near me!\n",
      "Leah lives near me!\n",
      "Aylin lives near me!\n"
     ]
    }
   ],
   "source": [
    "# 1: TO-DO: enter the name of your suburb\n",
    "my_suburb = \"Gutleut\"\n",
    "\n",
    "# list with all suburbs\n",
    "suburbs = [\"Nordend\", \"Niederrad\", \"Gutleut\", \"Bockenheim\", \"Mörfelden-Walldorf\", \"Ginnheim\", \"Sachsenhausen\", \"Eschersheim\", \"Gutleut\", \"Gutleut\", \"Computer\"]\n",
    "\n",
    "# list with all names\n",
    "names = [\"Maggie\", \"Nisa\", \"Franzi\", \"Vanessa\", \"Alexandra\", \"Finn\", \"Isabel\", \"Jahangir\", \"Leah\", \"Aylin\", \"Melvin\", \"Python\"]\n",
    "\n",
    "# 2: TO-DO: complete the for loop by entering the two lists in the correct order\n",
    "# Tip: The counter variables give it away\n",
    "for suburb, name in zip(suburbs , names):\n",
    "    \n",
    "    # 3: TO-Do: check if the current element of the suburb list equals your suburb\n",
    "    if suburb == my_suburb: \n",
    "        \n",
    "        # 4: TO-DO: Add the variable containing the name that corresponds to the suburb in the print function. \n",
    "        print(name + \" lives near me!\")"
   ]
  },
  {
   "cell_type": "markdown",
   "metadata": {
    "id": "rrzxyYMlAaUT"
   },
   "source": [
    "If no one lives in the same suburb as you, Python won't print anything. To still check how it would look like otherwise and to check if your code is working, change `my_suburb`to a name that you can see in the `suburb` list."
   ]
  },
  {
   "cell_type": "markdown",
   "metadata": {
    "id": "8ftFM2aaAaUU"
   },
   "source": [
    "***\n",
    "I bet you already wondered how many participants in this workshop are younger, older or the same age as you. Let's use Python to finally find out!\n",
    "\n",
    "We will again use a for-loop and an if-elif-else statement to count how many people are older, younger or the same age.  Complete the code block below to find out. \n"
   ]
  },
  {
   "cell_type": "code",
   "execution_count": 31,
   "metadata": {
    "id": "C0XTADxfAaUU"
   },
   "outputs": [
    {
     "name": "stdout",
     "output_type": "stream",
     "text": [
      "9 participants are younger than you!\n",
      "2 participants are older than you!\n",
      "1 participants are the same age as you!\n"
     ]
    }
   ],
   "source": [
    "# 1: TO-DO: Enter your own age \n",
    "my_age = 32\n",
    "\n",
    "# list with ages of all participants (again)\n",
    "ages = [24,23,25,24,27,28,29,29,30,32,33]\n",
    "\n",
    "# variables to count who is older, y0unger, same age\n",
    "younger = 0\n",
    "older = 0\n",
    "same = 0\n",
    "\n",
    "# 2: TO-DO: complete the for loop to loop through the ages list\n",
    "for age in ages: \n",
    "    \n",
    "    # 3. TO-DO: complete the if-elif statement: \n",
    "    \n",
    "    # A) check if current element in list is smaller that your age\n",
    "    if age < my_age : \n",
    "        # update younger variable (add 1 to variable)\n",
    "        younger = younger + 1\n",
    "    # B) check if current element is larger that your age\n",
    "    elif age > my_age: \n",
    "        older = older + 2\n",
    "    \n",
    "    # C) check if current element is the same as your age\n",
    "    elif age ==  my_age:\n",
    "        same = same + 1\n",
    "        \n",
    "print(str(younger)+ \" participants are younger than you!\")\n",
    "print(str(older)+ \" participants are older than you!\")\n",
    "print(str(same)+ \" participants are the same age as you!\")"
   ]
  },
  {
   "cell_type": "markdown",
   "metadata": {
    "id": "q1JpUmfwAaUU"
   },
   "source": [
    "<div class=\"alert alert-block alert-danger\">\n",
    "<b>STOP:</b> Come back to the main zoom room!\n",
    "</div>\n",
    "\n",
    "***\n",
    "***\n",
    "\n",
    "## Part 4:  Functions & Libraries\n",
    "\n",
    "Finally, we will have a look at functions and libaries (which basically is just a set of premade functions that we can make available to us). \n",
    "Let's start with having a closer look at inbuild functions. Those are functions that come within the basic python language. Go through the examples below. \n",
    "\n",
    "1. Use the `min()` and `max()` function to get the **age range** of our group. Remember, the we stored our ages in a list called `ages`."
   ]
  },
  {
   "cell_type": "code",
   "execution_count": 9,
   "metadata": {},
   "outputs": [
    {
     "data": {
      "text/plain": [
       "[24, 23, 25, 24, 27, 28, 29, 29, 30, 32, 33]"
      ]
     },
     "execution_count": 9,
     "metadata": {},
     "output_type": "execute_result"
    }
   ],
   "source": [
    "ages = [24,23,25,24,27,28,29,29,30,32,33]"
   ]
  },
  {
   "cell_type": "code",
   "execution_count": 33,
   "metadata": {
    "id": "HdxTmRDLAaUU"
   },
   "outputs": [
    {
     "name": "stdout",
     "output_type": "stream",
     "text": [
      "age-range: 23-33\n"
     ]
    }
   ],
   "source": [
    "# get age range\n",
    "min_age = min(ages)\n",
    "max_age = max(ages)\n",
    "\n",
    "\n",
    "print(\"age-range: \"+ str(min_age) +\"-\"+ str(max_age))"
   ]
  },
  {
   "cell_type": "markdown",
   "metadata": {
    "id": "wxSt0evnAaUU"
   },
   "source": [
    "2. Let's compute the **mean age** of all workshop participants. First, try to implement the formula to compute the mean by yourself. We know that the mean is the sum of some numbers divided by the number of elements. So we can use the `sum()` function and the `len()` function. `sum`and `len`are two other examples of inbuild functions included in Python! "
   ]
  },
  {
   "cell_type": "code",
   "execution_count": 34,
   "metadata": {
    "id": "Jjug-RxnAaUU"
   },
   "outputs": [
    {
     "name": "stdout",
     "output_type": "stream",
     "text": [
      "27.636363636363637\n"
     ]
    }
   ],
   "source": [
    "mean_age = sum(ages)/len(ages)\n",
    "\n",
    "print(mean_age)"
   ]
  },
  {
   "cell_type": "markdown",
   "metadata": {
    "id": "uK1J1hnYAaUV"
   },
   "source": [
    "3. Let's have a look at how we can wrap that into a function called `my_mean`. Remember: Functions can have an input (in our case the `ages`-list) and they can also return an output (in our case the mean age).  Functions are defined by using the key-word `def` follwoed by the name we want to give the function. Have a look at the code below and see if you can sport where we specified the input and output.\n",
    "\n",
    "Then try to complete the function by adding the formula for the mean_age. Check your code by running the cell beneath the function definition."
   ]
  },
  {
   "cell_type": "code",
   "execution_count": 35,
   "metadata": {
    "id": "om03zUbDAaUV"
   },
   "outputs": [],
   "source": [
    "#define function\n",
    "def my_mean(ages_list):\n",
    "    \n",
    "    mean_age = sum(ages_list)/len(ages_list)\n",
    "    \n",
    "    return mean_age"
   ]
  },
  {
   "cell_type": "code",
   "execution_count": 36,
   "metadata": {
    "id": "iVHcQos4AaUV"
   },
   "outputs": [
    {
     "data": {
      "text/plain": [
       "27.636363636363637"
      ]
     },
     "execution_count": 36,
     "metadata": {},
     "output_type": "execute_result"
    }
   ],
   "source": [
    "# call function\n",
    "my_mean(ages)"
   ]
  },
  {
   "cell_type": "markdown",
   "metadata": {
    "id": "MOQJ1a6BAaUV"
   },
   "source": [
    "4. However, we can make life easier and just use the inbuild `mean()` function. Try it yourself! For that, we first need to import the `numpy` library!"
   ]
  },
  {
   "cell_type": "code",
   "execution_count": 39,
   "metadata": {
    "id": "CiZCu6M-AaUV"
   },
   "outputs": [],
   "source": [
    "import numpy\n",
    "mean_age = numpy.mean(ages)"
   ]
  },
  {
   "cell_type": "markdown",
   "metadata": {
    "id": "MEio8qGiAaUV"
   },
   "source": [
    "5. Now that we know how to define functions, let's create a function that returns how many people in our group have pets.   \n",
    "Complete the code below to do so:\n"
   ]
  },
  {
   "cell_type": "code",
   "execution_count": 40,
   "metadata": {
    "id": "M-yWgAndAaUW"
   },
   "outputs": [],
   "source": [
    "pets= [\"Yes\", \"No\", \"No\", \"No\", \"Yes\", \"Yes\", \"No\", \"Yes\", \"No\", \"No\"]\n",
    "\n",
    "# TO-DO: complete the function definition:\n",
    "\n",
    "# 1. Include the correct input argument\n",
    "def have_pets(pets):\n",
    "    \n",
    "    # variable to count how many people have pets\n",
    "    count_pets = 0\n",
    "    \n",
    "    # 2. Loop though list: \n",
    "    for have in pets : \n",
    "        \n",
    "        # 3. Check if element in list is a \"yes\" (tip: You need to ask python a specific question.)\n",
    "        if have == \"Yes\":\n",
    "            \n",
    "            # 4: Update count variable: \n",
    "            count_pets = count_pets + 1\n",
    "            \n",
    "    \n",
    "    # 5. Return the final number of people with pets\n",
    "    return count_pets\n",
    "    "
   ]
  },
  {
   "cell_type": "code",
   "execution_count": 41,
   "metadata": {
    "id": "vsRK_rmrAaUW"
   },
   "outputs": [
    {
     "data": {
      "text/plain": [
       "4"
      ]
     },
     "execution_count": 41,
     "metadata": {},
     "output_type": "execute_result"
    }
   ],
   "source": [
    "# check your function: \n",
    "have_pets(pets)"
   ]
  },
  {
   "cell_type": "markdown",
   "metadata": {
    "id": "1CnK7TP9AaUW"
   },
   "source": [
    "6. Lastly, let's have a look at importing other libraries. We will use the `random`-library which contains a lot of functions that - the name gives it away - allow us to do things that involve some sort of randomness (e.g. picking a random element from a list, shuffling a list randomly, ...). \n",
    "\n",
    "We can make a game out of it. Let's use  to randomly pick a name out of the `names` list. This person has to buy you a coffee. Just kidding. But you could use this block of code to determine who of your friends has to pay the first round of drinks once lockdown is over. \n",
    "\n",
    "Have a look at how `random.choice()` works: https://www.w3schools.com/python/ref_random_choice.asp. "
   ]
  },
  {
   "cell_type": "code",
   "execution_count": 42,
   "metadata": {
    "id": "r-TqpdkoAaUW"
   },
   "outputs": [
    {
     "name": "stdout",
     "output_type": "stream",
     "text": [
      "Aylin has to pay the first round of drinks after lockdown.\n"
     ]
    }
   ],
   "source": [
    "# import random module\n",
    "import random \n",
    "\n",
    "# TODO: use random.choice() functiom \n",
    "pay_drink = random.choice(names)\n",
    "\n",
    "print(pay_drink + \" has to pay the first round of drinks after lockdown.\")"
   ]
  },
  {
   "cell_type": "markdown",
   "metadata": {
    "id": "3MYbQ5f0AaUW"
   },
   "source": [
    "7. We could also solve the task above in a different way. Use `random.randint()` (https://www.w3schools.com/python/ref_random_randint.asp), then index the names list at the position that this function picked. "
   ]
  },
  {
   "cell_type": "code",
   "execution_count": 87,
   "metadata": {
    "id": "JXDKCJfxAaUW"
   },
   "outputs": [
    {
     "name": "stdout",
     "output_type": "stream",
     "text": [
      "Leah has to pay the first round of drinks after lockdown.\n"
     ]
    }
   ],
   "source": [
    "# 1: use random.randint to create a random index. What are the possible indexes that you need to provide \n",
    "# to the function. Tip: you can use len() to find out. \n",
    "\n",
    "\n",
    "random_index = random.randint(0,11)\n",
    "\n",
    "# 2: use the random index to index the names list\n",
    "pay_drink = names[random_index]\n",
    "\n",
    "print(pay_drink + \" has to pay the first round of drinks after lockdown.\")"
   ]
  },
  {
   "cell_type": "code",
   "execution_count": 43,
   "metadata": {},
   "outputs": [
    {
     "name": "stdout",
     "output_type": "stream",
     "text": [
      "12\n"
     ]
    }
   ],
   "source": [
    "# how many participants are there: \n",
    "print(len(names))"
   ]
  },
  {
   "cell_type": "markdown",
   "metadata": {
    "id": "ERg2Oa5-AaUW"
   },
   "source": [
    "<div class=\"alert alert-block alert-warning\">\n",
    "<b>Fantastic!</b> You made it through the notebook. Come back to the main room and let us know that you are done. \n",
    "</div>"
   ]
  }
 ],
 "metadata": {
  "colab": {
   "collapsed_sections": [
    "P_yIt_SGAaUO"
   ],
   "name": "Introduction_to_python.ipynb",
   "provenance": []
  },
  "kernelspec": {
   "display_name": "Python 3",
   "language": "python",
   "name": "python3"
  },
  "language_info": {
   "codemirror_mode": {
    "name": "ipython",
    "version": 3
   },
   "file_extension": ".py",
   "mimetype": "text/x-python",
   "name": "python",
   "nbconvert_exporter": "python",
   "pygments_lexer": "ipython3",
   "version": "3.8.5"
  }
 },
 "nbformat": 4,
 "nbformat_minor": 1
}
